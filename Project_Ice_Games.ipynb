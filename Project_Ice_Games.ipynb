{
 "cells": [
  {
   "cell_type": "markdown",
   "id": "357979ae-c7d3-4081-bb08-9f00284c5aba",
   "metadata": {},
   "source": [
    "## Online Video Game Sales\n",
    "\n",
    "Analysis of global video game sales and reviews for Ice, focusing on identifying patterns that drive game success and planning effective advertising campaigns.\n"
   ]
  },
  {
   "cell_type": "markdown",
   "id": "8172cd14-6cff-48ed-8b1b-18d06ee574c4",
   "metadata": {},
   "source": [
    "### Step 1: Load data"
   ]
  },
  {
   "cell_type": "code",
   "execution_count": 95,
   "id": "b8e176cf-2296-4eba-98c0-eb4a34addbac",
   "metadata": {},
   "outputs": [],
   "source": [
    "import pandas as pd\n",
    "import numpy as np\n",
    "from scipy import stats as st\n",
    "from matplotlib import pyplot as plt\n",
    "import seaborn as sns"
   ]
  },
  {
   "cell_type": "code",
   "execution_count": 96,
   "id": "d5448e00-0e63-4162-8624-108834d5bf77",
   "metadata": {},
   "outputs": [],
   "source": [
    "games= pd.read_csv('games.csv')"
   ]
  },
  {
   "cell_type": "code",
   "execution_count": 97,
   "id": "c4c81607-6b62-46aa-abef-e2c3d61f22bf",
   "metadata": {},
   "outputs": [],
   "source": [
    "#games"
   ]
  },
  {
   "cell_type": "code",
   "execution_count": 98,
   "id": "6c82bd3d-53bf-43df-aa78-7a423bc23b4b",
   "metadata": {},
   "outputs": [
    {
     "name": "stdout",
     "output_type": "stream",
     "text": [
      "<class 'pandas.core.frame.DataFrame'>\n",
      "RangeIndex: 16715 entries, 0 to 16714\n",
      "Data columns (total 11 columns):\n",
      " #   Column           Non-Null Count  Dtype  \n",
      "---  ------           --------------  -----  \n",
      " 0   Name             16713 non-null  object \n",
      " 1   Platform         16715 non-null  object \n",
      " 2   Year_of_Release  16446 non-null  float64\n",
      " 3   Genre            16713 non-null  object \n",
      " 4   NA_sales         16715 non-null  float64\n",
      " 5   EU_sales         16715 non-null  float64\n",
      " 6   JP_sales         16715 non-null  float64\n",
      " 7   Other_sales      16715 non-null  float64\n",
      " 8   Critic_Score     8137 non-null   float64\n",
      " 9   User_Score       10014 non-null  object \n",
      " 10  Rating           9949 non-null   object \n",
      "dtypes: float64(6), object(5)\n",
      "memory usage: 1.4+ MB\n"
     ]
    }
   ],
   "source": [
    "games.info()"
   ]
  },
  {
   "cell_type": "markdown",
   "id": "fedb4dbe-4dfa-4626-873a-cd83ac0b9279",
   "metadata": {},
   "source": [
    "### Step 2: Data preprocessing"
   ]
  },
  {
   "cell_type": "code",
   "execution_count": 99,
   "id": "5b13c7e4-d5af-4d5d-aca4-9d84dc85fa39",
   "metadata": {},
   "outputs": [
    {
     "name": "stdout",
     "output_type": "stream",
     "text": [
      "<class 'pandas.core.frame.DataFrame'>\n",
      "RangeIndex: 16715 entries, 0 to 16714\n",
      "Data columns (total 11 columns):\n",
      " #   Column           Non-Null Count  Dtype  \n",
      "---  ------           --------------  -----  \n",
      " 0   name             16713 non-null  object \n",
      " 1   platform         16715 non-null  object \n",
      " 2   year_of_release  16446 non-null  float64\n",
      " 3   genre            16713 non-null  object \n",
      " 4   na_sales         16715 non-null  float64\n",
      " 5   eu_sales         16715 non-null  float64\n",
      " 6   jp_sales         16715 non-null  float64\n",
      " 7   other_sales      16715 non-null  float64\n",
      " 8   critic_score     8137 non-null   float64\n",
      " 9   user_score       10014 non-null  object \n",
      " 10  rating           9949 non-null   object \n",
      "dtypes: float64(6), object(5)\n",
      "memory usage: 1.4+ MB\n"
     ]
    }
   ],
   "source": [
    "# Make column names lowercase \n",
    "games.columns=games.columns.str.lower()\n",
    "games.info()\n",
    "\n",
    "## Using str because pandas object\n"
   ]
  },
  {
   "cell_type": "markdown",
   "id": "9a68cdbb-1cd0-47e2-aaca-8841a701811a",
   "metadata": {},
   "source": [
    "##### Check for missing values"
   ]
  },
  {
   "cell_type": "code",
   "execution_count": 100,
   "id": "43d3a303-38e3-49cf-841b-995bac7e8c2e",
   "metadata": {},
   "outputs": [
    {
     "data": {
      "text/plain": [
       "name                  2\n",
       "platform              0\n",
       "year_of_release     269\n",
       "genre                 2\n",
       "na_sales              0\n",
       "eu_sales              0\n",
       "jp_sales              0\n",
       "other_sales           0\n",
       "critic_score       8578\n",
       "user_score         6701\n",
       "rating             6766\n",
       "dtype: int64"
      ]
     },
     "execution_count": 100,
     "metadata": {},
     "output_type": "execute_result"
    }
   ],
   "source": [
    "games.isna().sum()"
   ]
  },
  {
   "cell_type": "code",
   "execution_count": 101,
   "id": "3ba6e696-49ad-4433-a46d-718ac445171a",
   "metadata": {},
   "outputs": [
    {
     "data": {
      "text/plain": [
       "count                           16713\n",
       "unique                          11559\n",
       "top       Need for Speed: Most Wanted\n",
       "freq                               12\n",
       "Name: name, dtype: object"
      ]
     },
     "execution_count": 101,
     "metadata": {},
     "output_type": "execute_result"
    }
   ],
   "source": [
    "## Names column \n",
    "\n",
    "games['name'].describe()\n",
    "# correct data type used\n"
   ]
  },
  {
   "cell_type": "code",
   "execution_count": 102,
   "id": "12f9288b-c2f2-412e-b4d3-c5eb68b1b791",
   "metadata": {},
   "outputs": [],
   "source": [
    "### Name column: Drop 2 rows \n",
    "\n",
    "games = games.dropna(subset=['name'])\n",
    "\n",
    "## only 2 missing rows will drop these rows "
   ]
  },
  {
   "cell_type": "code",
   "execution_count": 103,
   "id": "e57a63a6-b8db-46f0-a0dd-2127864de896",
   "metadata": {},
   "outputs": [
    {
     "data": {
      "text/plain": [
       "count     16713\n",
       "unique       31\n",
       "top         PS2\n",
       "freq       2161\n",
       "Name: platform, dtype: object"
      ]
     },
     "execution_count": 103,
     "metadata": {},
     "output_type": "execute_result"
    }
   ],
   "source": [
    "## Platform column\n",
    "\n",
    "games['platform'].describe()\n",
    "# correct data type\n",
    "\n"
   ]
  },
  {
   "cell_type": "code",
   "execution_count": 104,
   "id": "253c0bde-e88e-4865-9b16-adc47973d1df",
   "metadata": {},
   "outputs": [
    {
     "name": "stdout",
     "output_type": "stream",
     "text": [
      "year_of_release\n",
      "2008.0    1427\n",
      "2009.0    1426\n",
      "2010.0    1255\n",
      "2007.0    1197\n",
      "2011.0    1136\n",
      "2006.0    1006\n",
      "2005.0     939\n",
      "2002.0     829\n",
      "2003.0     775\n",
      "2004.0     762\n",
      "2012.0     653\n",
      "2015.0     606\n",
      "2014.0     581\n",
      "2013.0     544\n",
      "2016.0     502\n",
      "2001.0     482\n",
      "1998.0     379\n",
      "2000.0     350\n",
      "1999.0     338\n",
      "1997.0     289\n",
      "1996.0     263\n",
      "1995.0     219\n",
      "1994.0     121\n",
      "1993.0      60\n",
      "1981.0      46\n",
      "1992.0      43\n",
      "1991.0      41\n",
      "1982.0      36\n",
      "1986.0      21\n",
      "1989.0      17\n",
      "1983.0      17\n",
      "1990.0      16\n",
      "1987.0      16\n",
      "1988.0      15\n",
      "1985.0      14\n",
      "1984.0      14\n",
      "1980.0       9\n",
      "Name: count, dtype: int64\n"
     ]
    }
   ],
   "source": [
    "## year of release column\n",
    "\n",
    "games['year_of_release'].describe()\n",
    "# incorrect data type for year\n",
    "\n",
    "print(games['year_of_release'] .value_counts())\n",
    "\n",
    "\n"
   ]
  },
  {
   "cell_type": "code",
   "execution_count": 105,
   "id": "34f2fb13-cfc7-4da5-b098-6271e62cdb89",
   "metadata": {},
   "outputs": [],
   "source": [
    "## Year of release is categorical feature so I will drop missing rows\n",
    "\n",
    "games=games.dropna(subset=['year_of_release'])"
   ]
  },
  {
   "cell_type": "code",
   "execution_count": 106,
   "id": "5ca61576-6e29-4ec1-bd5e-18cef9c2a3cc",
   "metadata": {},
   "outputs": [
    {
     "name": "stdout",
     "output_type": "stream",
     "text": [
      "<class 'pandas.core.frame.DataFrame'>\n",
      "Index: 16444 entries, 0 to 16714\n",
      "Data columns (total 11 columns):\n",
      " #   Column           Non-Null Count  Dtype  \n",
      "---  ------           --------------  -----  \n",
      " 0   name             16444 non-null  object \n",
      " 1   platform         16444 non-null  object \n",
      " 2   year_of_release  16444 non-null  int32  \n",
      " 3   genre            16444 non-null  object \n",
      " 4   na_sales         16444 non-null  float64\n",
      " 5   eu_sales         16444 non-null  float64\n",
      " 6   jp_sales         16444 non-null  float64\n",
      " 7   other_sales      16444 non-null  float64\n",
      " 8   critic_score     7983 non-null   float64\n",
      " 9   user_score       9839 non-null   object \n",
      " 10  rating           9768 non-null   object \n",
      "dtypes: float64(5), int32(1), object(5)\n",
      "memory usage: 1.4+ MB\n"
     ]
    }
   ],
   "source": [
    "### Change year of release data type\n",
    "\n",
    "games['year_of_release'] = games['year_of_release'].astype(int)\n",
    "games.info()\n"
   ]
  },
  {
   "cell_type": "code",
   "execution_count": 107,
   "id": "aacc7850-817d-453a-b237-a1e4764d08c5",
   "metadata": {},
   "outputs": [
    {
     "name": "stdout",
     "output_type": "stream",
     "text": [
      "genre\n",
      "Action          3307\n",
      "Sports          2306\n",
      "Misc            1721\n",
      "Role-Playing    1481\n",
      "Shooter         1296\n",
      "Adventure       1293\n",
      "Racing          1226\n",
      "Platform         878\n",
      "Simulation       857\n",
      "Fighting         837\n",
      "Strategy         673\n",
      "Puzzle           569\n",
      "Name: count, dtype: int64\n"
     ]
    }
   ],
   "source": [
    "## Genre column\n",
    "\n",
    "games['genre'].describe()\n",
    "#correct data type \n",
    "\n",
    "print(games['genre'] .value_counts())\n"
   ]
  },
  {
   "cell_type": "code",
   "execution_count": 108,
   "id": "c353262a-bbed-480f-a512-b33a83a75fdb",
   "metadata": {},
   "outputs": [],
   "source": [
    "### Drop two missing rows\n",
    "\n",
    "games=games.dropna(subset=['genre'])"
   ]
  },
  {
   "cell_type": "code",
   "execution_count": 109,
   "id": "5d965084-1bf6-4536-ae58-9af0dcd656ec",
   "metadata": {},
   "outputs": [
    {
     "name": "stdout",
     "output_type": "stream",
     "text": [
      "na_sales\n",
      "0.00     4449\n",
      "0.02      562\n",
      "0.03      554\n",
      "0.04      543\n",
      "0.05      536\n",
      "         ... \n",
      "5.39        1\n",
      "3.03        1\n",
      "3.56        1\n",
      "2.82        1\n",
      "41.36       1\n",
      "Name: count, Length: 401, dtype: int64\n"
     ]
    }
   ],
   "source": [
    "## na_sales column\n",
    "\n",
    "games['na_sales'].describe()\n",
    "# correct data type\n",
    "\n",
    "print(games['na_sales'] .value_counts())\n",
    "\n"
   ]
  },
  {
   "cell_type": "code",
   "execution_count": 110,
   "id": "19bdd184-a3a2-4c90-bfad-c80e4941ef55",
   "metadata": {},
   "outputs": [
    {
     "name": "stdout",
     "output_type": "stream",
     "text": [
      "eu_sales\n",
      "0.00     5766\n",
      "0.01     1467\n",
      "0.02     1290\n",
      "0.03      911\n",
      "0.04      702\n",
      "         ... \n",
      "1.52        1\n",
      "5.75        1\n",
      "2.17        1\n",
      "2.78        1\n",
      "28.96       1\n",
      "Name: count, Length: 307, dtype: int64\n"
     ]
    }
   ],
   "source": [
    "## eu_sales\n",
    "\n",
    "games['eu_sales'].describe()\n",
    "#correct data type\n",
    "\n",
    "print(games['eu_sales'] .value_counts())\n",
    "\n"
   ]
  },
  {
   "cell_type": "code",
   "execution_count": 111,
   "id": "7f475c65-eaf9-49da-b86c-ab434a36d480",
   "metadata": {},
   "outputs": [
    {
     "name": "stdout",
     "output_type": "stream",
     "text": [
      "jp_sales\n",
      "0.00    10300\n",
      "0.02      733\n",
      "0.01      697\n",
      "0.03      540\n",
      "0.04      391\n",
      "        ...  \n",
      "3.14        1\n",
      "2.73        1\n",
      "3.18        1\n",
      "3.63        1\n",
      "0.97        1\n",
      "Name: count, Length: 244, dtype: int64\n"
     ]
    }
   ],
   "source": [
    "## jp_sales\n",
    "\n",
    "games['jp_sales'].describe()\n",
    "# correct data type\n",
    "\n",
    "print(games['jp_sales'] .value_counts())\n",
    "\n"
   ]
  },
  {
   "cell_type": "code",
   "execution_count": 112,
   "id": "4bc1c4e5-8a7e-45f5-9dbb-25797cce0e58",
   "metadata": {},
   "outputs": [
    {
     "name": "stdout",
     "output_type": "stream",
     "text": [
      "other_sales\n",
      "0.00    6492\n",
      "0.01    3398\n",
      "0.02    1596\n",
      "0.03     910\n",
      "0.04     641\n",
      "        ... \n",
      "2.11       1\n",
      "7.53       1\n",
      "1.21       1\n",
      "1.79       1\n",
      "0.93       1\n",
      "Name: count, Length: 155, dtype: int64\n"
     ]
    }
   ],
   "source": [
    "# other sales\n",
    "\n",
    "games['other_sales'].describe()\n",
    "# correct data type\n",
    "\n",
    "print(games['other_sales'] .value_counts())\n"
   ]
  },
  {
   "cell_type": "code",
   "execution_count": 113,
   "id": "821dc264-ce86-424e-aee1-8748eec5c115",
   "metadata": {},
   "outputs": [
    {
     "name": "stdout",
     "output_type": "stream",
     "text": [
      "critic_score\n",
      "70.0    252\n",
      "71.0    248\n",
      "75.0    240\n",
      "80.0    235\n",
      "73.0    234\n",
      "       ... \n",
      "20.0      3\n",
      "29.0      3\n",
      "21.0      1\n",
      "17.0      1\n",
      "13.0      1\n",
      "Name: count, Length: 81, dtype: int64\n"
     ]
    }
   ],
   "source": [
    "## Critic score column\n",
    "\n",
    "games['critic_score'].describe()\n",
    "# correct data type\n",
    "\n",
    "print(games['critic_score'].value_counts())\n",
    "\n",
    "## There are 8578 missing values in the 'critic_score' column. As with user_score NaNs, it seems like we need to leave the NaNs in place, as I believe that it would be best to consider only those games for which scores are already present, rather than try to fill in the NaNs. Our reasoning concerns how critic scores tend to fluctuate between platforms, as well as between individual critics."
   ]
  },
  {
   "cell_type": "code",
   "execution_count": 114,
   "id": "ae4e3223-4add-43ea-8a90-532e7c78265a",
   "metadata": {},
   "outputs": [
    {
     "name": "stdout",
     "output_type": "stream",
     "text": [
      "user_score\n",
      "tbd    2376\n",
      "7.8     322\n",
      "8       285\n",
      "8.2     276\n",
      "8.3     252\n",
      "       ... \n",
      "1.1       2\n",
      "1.9       2\n",
      "9.6       2\n",
      "0         1\n",
      "9.7       1\n",
      "Name: count, Length: 96, dtype: int64\n"
     ]
    }
   ],
   "source": [
    "## User score column\n",
    "\n",
    "games['user_score'].describe()\n",
    "# need to change data type\n",
    "\n",
    "print(games['user_score'].value_counts())\n",
    "\n",
    "\n",
    "##There are 9123 NaNs in the 'user_score' column, which is better not to fill at all. We would be able to get a better representation of how users' ratings relate to the success of a game if we use the ratings that are in place, rather than try to repalce the NaNs with user_ratings."
   ]
  },
  {
   "cell_type": "code",
   "execution_count": 115,
   "id": "ab443398-ad17-4ddb-bd18-8f772aa74604",
   "metadata": {},
   "outputs": [],
   "source": [
    "# Convert columns to numeric\n",
    "games['user_score'] = pd.to_numeric(games['user_score'], errors='coerce')\n"
   ]
  },
  {
   "cell_type": "code",
   "execution_count": 116,
   "id": "396de80a-e6ac-4926-bba1-fbe75b5885eb",
   "metadata": {},
   "outputs": [
    {
     "name": "stdout",
     "output_type": "stream",
     "text": [
      "<class 'pandas.core.frame.DataFrame'>\n",
      "Index: 16444 entries, 0 to 16714\n",
      "Data columns (total 11 columns):\n",
      " #   Column           Non-Null Count  Dtype  \n",
      "---  ------           --------------  -----  \n",
      " 0   name             16444 non-null  object \n",
      " 1   platform         16444 non-null  object \n",
      " 2   year_of_release  16444 non-null  int32  \n",
      " 3   genre            16444 non-null  object \n",
      " 4   na_sales         16444 non-null  float64\n",
      " 5   eu_sales         16444 non-null  float64\n",
      " 6   jp_sales         16444 non-null  float64\n",
      " 7   other_sales      16444 non-null  float64\n",
      " 8   critic_score     7983 non-null   float64\n",
      " 9   user_score       7463 non-null   float64\n",
      " 10  rating           9768 non-null   object \n",
      "dtypes: float64(6), int32(1), object(4)\n",
      "memory usage: 1.4+ MB\n"
     ]
    }
   ],
   "source": [
    "### Change data type to float \n",
    "\n",
    "games['user_score'] = games['user_score'].astype(float)\n",
    "games.info()"
   ]
  },
  {
   "cell_type": "code",
   "execution_count": 117,
   "id": "b6dec5bf-487a-41cc-82da-66a649686c0b",
   "metadata": {},
   "outputs": [
    {
     "name": "stdout",
     "output_type": "stream",
     "text": [
      "rating\n",
      "E       3921\n",
      "T       2905\n",
      "M       1536\n",
      "E10+    1393\n",
      "EC         8\n",
      "K-A        3\n",
      "AO         1\n",
      "RP         1\n",
      "Name: count, dtype: int64\n"
     ]
    }
   ],
   "source": [
    "## rating column \n",
    "\n",
    "games['rating'].describe()\n",
    "# correct data type\n",
    "\n",
    "print(games['rating'] .value_counts())\n",
    "\n"
   ]
  },
  {
   "cell_type": "code",
   "execution_count": 118,
   "id": "db0d4cf7-2cb7-4c88-8f17-ec77db835a32",
   "metadata": {},
   "outputs": [
    {
     "data": {
      "text/plain": [
       "count     9768\n",
       "unique       8\n",
       "top          E\n",
       "freq      3921\n",
       "Name: rating, dtype: object"
      ]
     },
     "execution_count": 118,
     "metadata": {},
     "output_type": "execute_result"
    }
   ],
   "source": [
    "games['rating'].describe()"
   ]
  },
  {
   "cell_type": "code",
   "execution_count": 119,
   "id": "6c9796b9-f734-434f-83ea-d5629dcae00c",
   "metadata": {},
   "outputs": [],
   "source": [
    "### Fill missing categorical values \n",
    "#### Used the fillna method to deal with missing data because there is no meaningful way to find out the names\n",
    "\n",
    "games['rating'] = games['rating'].fillna(value='')"
   ]
  },
  {
   "cell_type": "code",
   "execution_count": 120,
   "id": "33c459fe-e1fb-4b5b-b10a-87532e033cd1",
   "metadata": {},
   "outputs": [
    {
     "name": "stdout",
     "output_type": "stream",
     "text": [
      "<class 'pandas.core.frame.DataFrame'>\n",
      "Index: 16444 entries, 0 to 16714\n",
      "Data columns (total 11 columns):\n",
      " #   Column           Non-Null Count  Dtype  \n",
      "---  ------           --------------  -----  \n",
      " 0   name             16444 non-null  object \n",
      " 1   platform         16444 non-null  object \n",
      " 2   year_of_release  16444 non-null  int32  \n",
      " 3   genre            16444 non-null  object \n",
      " 4   na_sales         16444 non-null  float64\n",
      " 5   eu_sales         16444 non-null  float64\n",
      " 6   jp_sales         16444 non-null  float64\n",
      " 7   other_sales      16444 non-null  float64\n",
      " 8   critic_score     7983 non-null   float64\n",
      " 9   user_score       7463 non-null   float64\n",
      " 10  rating           16444 non-null  object \n",
      "dtypes: float64(6), int32(1), object(4)\n",
      "memory usage: 1.4+ MB\n"
     ]
    }
   ],
   "source": [
    "games.info()\n"
   ]
  },
  {
   "cell_type": "code",
   "execution_count": 121,
   "id": "3e8ddd27-842f-48b8-b1a3-f64f75542d47",
   "metadata": {},
   "outputs": [
    {
     "name": "stdout",
     "output_type": "stream",
     "text": [
      "<class 'pandas.core.frame.DataFrame'>\n",
      "Index: 16444 entries, 0 to 16714\n",
      "Data columns (total 12 columns):\n",
      " #   Column           Non-Null Count  Dtype  \n",
      "---  ------           --------------  -----  \n",
      " 0   name             16444 non-null  object \n",
      " 1   platform         16444 non-null  object \n",
      " 2   year_of_release  16444 non-null  int32  \n",
      " 3   genre            16444 non-null  object \n",
      " 4   na_sales         16444 non-null  float64\n",
      " 5   eu_sales         16444 non-null  float64\n",
      " 6   jp_sales         16444 non-null  float64\n",
      " 7   other_sales      16444 non-null  float64\n",
      " 8   critic_score     7983 non-null   float64\n",
      " 9   user_score       7463 non-null   float64\n",
      " 10  rating           16444 non-null  object \n",
      " 11  total_sales      16444 non-null  float64\n",
      "dtypes: float64(7), int32(1), object(4)\n",
      "memory usage: 1.6+ MB\n"
     ]
    }
   ],
   "source": [
    "# Create a new column for total_sales\n",
    "games['total_sales'] = games['na_sales'] + games['eu_sales'] + games['jp_sales'] + games['other_sales'] \n",
    "games.info()\n"
   ]
  },
  {
   "cell_type": "markdown",
   "id": "05c694b2-ca10-4668-a7f0-7c1509dd5bd4",
   "metadata": {},
   "source": [
    "## Step 3: Analyses"
   ]
  },
  {
   "cell_type": "markdown",
   "id": "ae008651-fa76-478e-949c-3fc61e763a38",
   "metadata": {},
   "source": [
    "#### (3.1) Look at how many games were released in different years. Is the data for every period significant?\n"
   ]
  },
  {
   "cell_type": "code",
   "execution_count": 169,
   "id": "d9345450-d34c-444e-a8fc-fcb7ef31a090",
   "metadata": {},
   "outputs": [
    {
     "name": "stdout",
     "output_type": "stream",
     "text": [
      "year_of_release\n",
      "1980       9\n",
      "1981      46\n",
      "1982      36\n",
      "1983      17\n",
      "1984      14\n",
      "1985      14\n",
      "1986      21\n",
      "1987      16\n",
      "1988      15\n",
      "1989      17\n",
      "1990      16\n",
      "1991      40\n",
      "1992      41\n",
      "1993      59\n",
      "1994     117\n",
      "1995     215\n",
      "1996     258\n",
      "1997     282\n",
      "1998     364\n",
      "1999     326\n",
      "2000     325\n",
      "2001     428\n",
      "2002     631\n",
      "2003     546\n",
      "2004     550\n",
      "2005     657\n",
      "2006     773\n",
      "2007     884\n",
      "2008    1039\n",
      "2009    1001\n",
      "2010     900\n",
      "2011     779\n",
      "2012     446\n",
      "2013     335\n",
      "2014     319\n",
      "2015     362\n",
      "2016     297\n",
      "Name: name, dtype: int64\n"
     ]
    },
    {
     "data": {
      "text/plain": [
       "' from 1980 to 1993 there were much fewer games released. However, from 1994 onwards there is a significnat \\nincrease in games being released.'"
      ]
     },
     "execution_count": 169,
     "metadata": {},
     "output_type": "execute_result"
    }
   ],
   "source": [
    "\n",
    "games_year_release = games.groupby('year_of_release')['name'].nunique()\n",
    "print(games_year_release)\n",
    "\n",
    "''' from 1980 to 1993 there were much fewer games released. However, from 1994 onwards there is a significnat \n",
    "increase in games being released.'''"
   ]
  },
  {
   "cell_type": "code",
   "execution_count": 123,
   "id": "52d9793d-61d8-411b-9ff8-854b4374b695",
   "metadata": {},
   "outputs": [
    {
     "data": {
      "text/plain": [
       "pandas.core.series.Series"
      ]
     },
     "execution_count": 123,
     "metadata": {},
     "output_type": "execute_result"
    }
   ],
   "source": [
    "type(games_year_release)"
   ]
  },
  {
   "cell_type": "code",
   "execution_count": 124,
   "id": "b66f065b-7762-47d8-b4ea-6fe92d602d3c",
   "metadata": {},
   "outputs": [
    {
     "data": {
      "image/png": "[encoded data removed]",
      "text/plain": [
       "<Figure size 1000x600 with 1 Axes>"
      ]
     },
     "metadata": {},
     "output_type": "display_data"
    },
    {
     "name": "stdout",
     "output_type": "stream",
     "text": [
      "\n",
      "The peak in game releases around 2007-2009 could be tied to major console releases, \n",
      "possibly the growth of mobile gaming.\n",
      "\n"
     ]
    }
   ],
   "source": [
    "#matplotlib visualization\n",
    "\n",
    "plt.figure(figsize=(10,6))\n",
    "plt.bar(games_year_release.index, games_year_release.values)\n",
    "plt.title('Number of Unique Games Released per Year', fontsize=14)\n",
    "plt.xlabel('Year of Release', fontsize=12)\n",
    "plt.ylabel('Number of Unique Games', fontsize=12)\n",
    "plt.show()\n",
    "\n",
    "print('''\n",
    "The peak in game releases around 2007-2009 could be tied to major console releases, \n",
    "possibly the growth of mobile gaming.\n",
    "''')\n"
   ]
  },
  {
   "cell_type": "code",
   "execution_count": 125,
   "id": "669c9c17-2fd2-4965-84ae-bdb9a3a6e2f2",
   "metadata": {},
   "outputs": [
    {
     "data": {
      "image/png": "[encoded data removed]",
      "text/plain": [
       "<Figure size 1000x600 with 1 Axes>"
      ]
     },
     "metadata": {},
     "output_type": "display_data"
    }
   ],
   "source": [
    "#pandas visualization\n",
    "\n",
    "plt.figure(figsize=(10,6))\n",
    "\n",
    "games_year_release.plot(kind='line')\n",
    "\n",
    "\n",
    "plt.title('Number of Unique Games Released per Year', fontsize=14)\n",
    "plt.xlabel('Year of Release', fontsize=12)\n",
    "plt.ylabel('Number of Unique Games', fontsize=12)\n",
    "\n",
    "\n",
    "plt.show()\n"
   ]
  },
  {
   "cell_type": "markdown",
   "id": "4c9e72cd-4114-4885-b7dd-47e1e3a766bf",
   "metadata": {},
   "source": [
    "#### (3.2) Look at how sales varied from platform to platform. Choose the platforms with the greatest total sales and build a distribution based on data for each year.\n"
   ]
  },
  {
   "cell_type": "code",
   "execution_count": 126,
   "id": "1fd61675-8c50-4f5d-b960-3b89a26b0849",
   "metadata": {},
   "outputs": [
    {
     "name": "stdout",
     "output_type": "stream",
     "text": [
      "   platform  total_sales\n",
      "16      PS2      1233.56\n",
      "28     X360       961.24\n",
      "17      PS3       931.34\n",
      "26      Wii       891.18\n",
      "4        DS       802.78\n",
      "15       PS       727.58\n",
      "18      PS4       314.14\n",
      "6       GBA       312.88\n",
      "19      PSP       289.53\n",
      "2       3DS       257.81\n"
     ]
    }
   ],
   "source": [
    "## Analyze total sales by platform\n",
    "\n",
    "# Group by platform and sum the total sales\n",
    "platform_sales = games.groupby('platform')['total_sales'].sum().reset_index()\n",
    "\n",
    "# Sort the platforms by total sales \n",
    "platform_sales_sorted = platform_sales.sort_values(by='total_sales', ascending=False)\n",
    "\n",
    "print(platform_sales_sorted.head(10))\n",
    "\n",
    "# Best performing platforms: PS2, x360, PS3, Wii, and DS."
   ]
  },
  {
   "cell_type": "code",
   "execution_count": 127,
   "id": "41042591-9a1a-4abb-8597-bfed74ad1d9e",
   "metadata": {},
   "outputs": [],
   "source": [
    "## Platforms with the greatest total sales   \n",
    "   \n",
    "# Filtering the DataFrame to select best performing platforms \n",
    "best_total_sales = games[(games['platform'] == 'PS2') | (games['platform'] == 'X360') | (games['platform'] == 'PS3') |\n",
    "                           (games['platform'] == 'WII') | (games['platform'] == 'PS') | (games['platform'] == 'DS')\n",
    "]\n"
   ]
  },
  {
   "cell_type": "code",
   "execution_count": 128,
   "id": "5c7cdaf2-b0cf-462d-bba6-fe22a0633471",
   "metadata": {},
   "outputs": [
    {
     "data": {
      "text/plain": [
       "array(['DS', 'X360', 'PS3', 'PS2', 'PS'], dtype=object)"
      ]
     },
     "execution_count": 128,
     "metadata": {},
     "output_type": "execute_result"
    }
   ],
   "source": [
    "best_total_sales['platform'].unique()"
   ]
  },
  {
   "cell_type": "code",
   "execution_count": 129,
   "id": "979179c5-c7e1-4bc7-a820-bbb2302f0293",
   "metadata": {},
   "outputs": [
    {
     "data": {
      "text/html": [
       "<div>\n",
       "<style scoped>\n",
       "    .dataframe tbody tr th:only-of-type {\n",
       "        vertical-align: middle;\n",
       "    }\n",
       "\n",
       "    .dataframe tbody tr th {\n",
       "        vertical-align: top;\n",
       "    }\n",
       "\n",
       "    .dataframe thead th {\n",
       "        text-align: right;\n",
       "    }\n",
       "</style>\n",
       "<table border=\"1\" class=\"dataframe\">\n",
       "  <thead>\n",
       "    <tr style=\"text-align: right;\">\n",
       "      <th></th>\n",
       "      <th>year_of_release</th>\n",
       "      <th>total_sales</th>\n",
       "    </tr>\n",
       "  </thead>\n",
       "  <tbody>\n",
       "    <tr>\n",
       "      <th>0</th>\n",
       "      <td>1985</td>\n",
       "      <td>0.02</td>\n",
       "    </tr>\n",
       "    <tr>\n",
       "      <th>1</th>\n",
       "      <td>1994</td>\n",
       "      <td>6.03</td>\n",
       "    </tr>\n",
       "    <tr>\n",
       "      <th>2</th>\n",
       "      <td>1995</td>\n",
       "      <td>35.96</td>\n",
       "    </tr>\n",
       "    <tr>\n",
       "      <th>3</th>\n",
       "      <td>1996</td>\n",
       "      <td>94.70</td>\n",
       "    </tr>\n",
       "    <tr>\n",
       "      <th>4</th>\n",
       "      <td>1997</td>\n",
       "      <td>136.17</td>\n",
       "    </tr>\n",
       "    <tr>\n",
       "      <th>5</th>\n",
       "      <td>1998</td>\n",
       "      <td>169.49</td>\n",
       "    </tr>\n",
       "    <tr>\n",
       "      <th>6</th>\n",
       "      <td>1999</td>\n",
       "      <td>144.53</td>\n",
       "    </tr>\n",
       "    <tr>\n",
       "      <th>7</th>\n",
       "      <td>2000</td>\n",
       "      <td>135.54</td>\n",
       "    </tr>\n",
       "    <tr>\n",
       "      <th>8</th>\n",
       "      <td>2001</td>\n",
       "      <td>202.02</td>\n",
       "    </tr>\n",
       "    <tr>\n",
       "      <th>9</th>\n",
       "      <td>2002</td>\n",
       "      <td>212.05</td>\n",
       "    </tr>\n",
       "    <tr>\n",
       "      <th>10</th>\n",
       "      <td>2003</td>\n",
       "      <td>186.38</td>\n",
       "    </tr>\n",
       "    <tr>\n",
       "      <th>11</th>\n",
       "      <td>2004</td>\n",
       "      <td>229.08</td>\n",
       "    </tr>\n",
       "    <tr>\n",
       "      <th>12</th>\n",
       "      <td>2005</td>\n",
       "      <td>299.05</td>\n",
       "    </tr>\n",
       "    <tr>\n",
       "      <th>13</th>\n",
       "      <td>2006</td>\n",
       "      <td>295.81</td>\n",
       "    </tr>\n",
       "    <tr>\n",
       "      <th>14</th>\n",
       "      <td>2007</td>\n",
       "      <td>391.53</td>\n",
       "    </tr>\n",
       "    <tr>\n",
       "      <th>15</th>\n",
       "      <td>2008</td>\n",
       "      <td>452.99</td>\n",
       "    </tr>\n",
       "    <tr>\n",
       "      <th>16</th>\n",
       "      <td>2009</td>\n",
       "      <td>397.16</td>\n",
       "    </tr>\n",
       "    <tr>\n",
       "      <th>17</th>\n",
       "      <td>2010</td>\n",
       "      <td>402.86</td>\n",
       "    </tr>\n",
       "    <tr>\n",
       "      <th>18</th>\n",
       "      <td>2011</td>\n",
       "      <td>327.25</td>\n",
       "    </tr>\n",
       "    <tr>\n",
       "      <th>19</th>\n",
       "      <td>2012</td>\n",
       "      <td>218.11</td>\n",
       "    </tr>\n",
       "    <tr>\n",
       "      <th>20</th>\n",
       "      <td>2013</td>\n",
       "      <td>203.37</td>\n",
       "    </tr>\n",
       "    <tr>\n",
       "      <th>21</th>\n",
       "      <td>2014</td>\n",
       "      <td>82.50</td>\n",
       "    </tr>\n",
       "    <tr>\n",
       "      <th>22</th>\n",
       "      <td>2015</td>\n",
       "      <td>28.78</td>\n",
       "    </tr>\n",
       "    <tr>\n",
       "      <th>23</th>\n",
       "      <td>2016</td>\n",
       "      <td>5.12</td>\n",
       "    </tr>\n",
       "  </tbody>\n",
       "</table>\n",
       "</div>"
      ],
      "text/plain": [
       "    year_of_release  total_sales\n",
       "0              1985         0.02\n",
       "1              1994         6.03\n",
       "2              1995        35.96\n",
       "3              1996        94.70\n",
       "4              1997       136.17\n",
       "5              1998       169.49\n",
       "6              1999       144.53\n",
       "7              2000       135.54\n",
       "8              2001       202.02\n",
       "9              2002       212.05\n",
       "10             2003       186.38\n",
       "11             2004       229.08\n",
       "12             2005       299.05\n",
       "13             2006       295.81\n",
       "14             2007       391.53\n",
       "15             2008       452.99\n",
       "16             2009       397.16\n",
       "17             2010       402.86\n",
       "18             2011       327.25\n",
       "19             2012       218.11\n",
       "20             2013       203.37\n",
       "21             2014        82.50\n",
       "22             2015        28.78\n",
       "23             2016         5.12"
      ]
     },
     "execution_count": 129,
     "metadata": {},
     "output_type": "execute_result"
    }
   ],
   "source": [
    "## Group by year to show the distribution of sales over time forbest performing platforms\n",
    "\n",
    "best_total_year = best_total_sales.groupby('year_of_release')['total_sales'].sum().reset_index()\n",
    "\n",
    "best_total_year"
   ]
  },
  {
   "cell_type": "code",
   "execution_count": 130,
   "id": "08976c31-cea9-432d-adaa-549ea9c0a20d",
   "metadata": {},
   "outputs": [
    {
     "data": {
      "image/png": "[encoded data removed]",
      "text/plain": [
       "<Figure size 1000x600 with 1 Axes>"
      ]
     },
     "metadata": {},
     "output_type": "display_data"
    }
   ],
   "source": [
    "# matplotlib visualization\n",
    "\n",
    "plt.figure(figsize=(10,6))\n",
    "plt.plot(best_total_year['year_of_release'], best_total_year['total_sales'], marker='o')\n",
    "\n",
    "# Add title and labels\n",
    "plt.title('Total Game Sales by Year of Release', fontsize=14)\n",
    "plt.xlabel('Year of Release', fontsize=12)\n",
    "plt.ylabel('Total Sales (in millions)', fontsize=12)\n",
    "\n",
    "plt.grid(True)\n",
    "plt.show()\n",
    "\n",
    "# The year 2008 represents the peak in total game sales, likely influenced by key game releases or platform popularity.\n",
    "\n",
    "# From 2010 onward, there is a notable decline in game sales, which could indicate market saturation or changes in consumer behavior.\n"
   ]
  },
  {
   "cell_type": "code",
   "execution_count": 131,
   "id": "f70af854-7706-4a3c-8169-64716d6dd3b3",
   "metadata": {},
   "outputs": [
    {
     "data": {
      "image/png": "[encoded data removed]",
      "text/plain": [
       "<Figure size 640x480 with 1 Axes>"
      ]
     },
     "metadata": {},
     "output_type": "display_data"
    }
   ],
   "source": [
    "## Bar graph for aggregated data: matplotlib vizualization\n",
    "\n",
    "# Filter the data for different time periods\n",
    "best_total_year_1990s = best_total_year[best_total_year['year_of_release'] < 2000]\n",
    "best_total_year_2000s = best_total_year[(best_total_year['year_of_release'] >= 2000) & (best_total_year['year_of_release'] < 2010)]\n",
    "best_total_year_2010s = best_total_year[best_total_year['year_of_release'] >= 2010]\n",
    "\n",
    "# Plotting the bar chart for total sales in the 90s\n",
    "plt.bar(best_total_year_1990s['year_of_release'], best_total_year_1990s['total_sales'], alpha=0.7, label='1990s')\n",
    "\n",
    "# Plotting the bar chart for total sales in the 2000s\n",
    "plt.bar(best_total_year_2000s['year_of_release'], best_total_year_2000s['total_sales'], alpha=0.6, label='2000s')\n",
    "\n",
    "# Plotting the bar chart for total sales in the 2010s\n",
    "plt.bar(best_total_year_2010s['year_of_release'], best_total_year_2010s['total_sales'], alpha=0.4, label='2010s')\n",
    "\n",
    "# Adding labels and title\n",
    "plt.xlabel('Year of Release')\n",
    "plt.ylabel('Total Sales')\n",
    "plt.title('Total Sales Distribution by Decade')\n",
    "\n",
    "\n",
    "plt.legend()\n",
    "plt.show()\n",
    "\n",
    "\n",
    "# There is an increase in total sales in the 2000s, with a peak around 2007–2009.\n",
    "# After the peak in the late 2000s, total sales declines in the 2010s."
   ]
  },
  {
   "cell_type": "code",
   "execution_count": 132,
   "id": "8e57a39f-a405-4111-9ac8-a19ff2b08544",
   "metadata": {},
   "outputs": [
    {
     "data": {
      "image/png": "[encoded data removed]",
      "text/plain": [
       "<Figure size 1000x600 with 1 Axes>"
      ]
     },
     "metadata": {},
     "output_type": "display_data"
    }
   ],
   "source": [
    "## Analyze year-over-year sales trends (pandas visualization)\n",
    "\n",
    "\n",
    "# Group by platform and year of release, and sum sales per year\n",
    "platform_sales_by_year = best_total_sales.groupby(['year_of_release', 'platform'])['total_sales'].sum().unstack()\n",
    "\n",
    "# Plot the sales trends over the years for the top platforms\n",
    "platform_sales_by_year.plot(kind='line', figsize=(10, 6))\n",
    "plt.title('Year-over-Year Sales Trends for Platforms up to 2016')\n",
    "plt.xlabel('Year of Release')\n",
    "plt.ylabel('Total Sales (in millions)')\n",
    "plt.show()\n",
    "\n",
    "# PS2 had a peak around 2005\n",
    "# Xbox360 and PS3 peaked around the same time, around 2010\n",
    "# DS peaked around 2006–2007\n"
   ]
  },
  {
   "cell_type": "markdown",
   "id": "ee8a87fd-361b-4da9-b82d-803afdd65060",
   "metadata": {},
   "source": [
    "#### (3.2) Find platforms that used to be popular but now have zero sales. How long does it generally take for new platforms to appear and old ones to fade?"
   ]
  },
  {
   "cell_type": "code",
   "execution_count": 133,
   "id": "21408c05-e767-422a-a975-9f64e939b28b",
   "metadata": {},
   "outputs": [
    {
     "name": "stdout",
     "output_type": "stream",
     "text": [
      "Platforms with declining sales in 2015-2016: ['PSP']\n"
     ]
    }
   ],
   "source": [
    "## Identify platforms with declining sales\n",
    "\n",
    "# Find platforms where sales were high in earlier years but have dropped sharply in recent years (2015-2016)\n",
    "recent_years = games[games['year_of_release'] >= 2015]\n",
    "platforms_recent_sales = recent_years.groupby('platform')['total_sales'].sum().reset_index()\n",
    "\n",
    "# Set a threshold for platforms with declining sales, e.g., less than 1 million in sales in recent years\n",
    "platforms_declining = platforms_recent_sales[platforms_recent_sales['total_sales'] < 1]['platform'].tolist()\n",
    "\n",
    "# These are the platforms that had high sales earlier but have declining sales recently\n",
    "print(\"Platforms with declining sales in 2015-2016:\", platforms_declining)\n",
    "\n",
    "\n",
    "# Platforms that once had high sales but are declining might not be a good focus for the 2017 campaign.\n",
    "\n"
   ]
  },
  {
   "cell_type": "code",
   "execution_count": 134,
   "id": "f2d3908f-d852-4221-9a79-b34f10fba527",
   "metadata": {},
   "outputs": [
    {
     "name": "stdout",
     "output_type": "stream",
     "text": [
      "   platform   min   max  duration\n",
      "13       PC  1985  2016        31\n",
      "4        DS  1985  2013        28\n",
      "5        GB  1988  2001        13\n",
      "28     X360  2005  2016        11\n",
      "19      PSP  2004  2015        11\n",
      "16      PS2  2000  2011        11\n",
      "11      NES  1983  1994        11\n",
      "3        DC  1998  2008        10\n",
      "26      Wii  2006  2016        10\n",
      "17      PS3  2006  2016        10\n"
     ]
    },
    {
     "data": {
      "text/plain": [
       "7.612903225806452"
      ]
     },
     "execution_count": 134,
     "metadata": {},
     "output_type": "execute_result"
    }
   ],
   "source": [
    "## Platform longevity\n",
    "\n",
    "# Calculate the first and last year of release for each platform to understand platform longevity\n",
    "platform_length = games.groupby('platform')['year_of_release'].agg(['min', 'max']).reset_index()\n",
    "\n",
    "# Calculate how many years a platform has been active\n",
    "platform_length['duration'] = platform_length['max'] - platform_length['min']\n",
    "\n",
    "# Sort by lifecycle duration to see which platforms have been around the longest\n",
    "platform_length_sorted = platform_length.sort_values(by='duration', ascending=False)\n",
    "\n",
    "# Display platforms with the longest lifecycles\n",
    "print(platform_length_sorted.head(10))\n",
    "\n",
    "\n",
    "platform_length['duration'].mean()\n",
    "\n",
    "## The average platform lifecycle is around 8 years"
   ]
  },
  {
   "cell_type": "markdown",
   "id": "579e91e3-fd7e-4e5b-af3d-58af56fe2323",
   "metadata": {},
   "source": [
    "####  (3.3) and (3.4) Determine what period you should take data for. \n"
   ]
  },
  {
   "cell_type": "markdown",
   "id": "fed1999f-a803-40d7-84a3-d1bcc7f9e70b",
   "metadata": {},
   "source": [
    "#####  Since I am forecasting 2016 sales, I will use data from 2012."
   ]
  },
  {
   "cell_type": "code",
   "execution_count": 135,
   "id": "9164e892-867f-4f98-ba82-132056f8dc74",
   "metadata": {},
   "outputs": [],
   "source": [
    "## Filter data from 2012 to 2015\n",
    "\n",
    "games2 = games[games['year_of_release'] >= 2012]"
   ]
  },
  {
   "cell_type": "markdown",
   "id": "1750d3e2-d1ce-4912-adce-e1c2c713809f",
   "metadata": {},
   "source": [
    "#### (3.5) Which platforms are leading in sales? Which ones are growing or shrinking? "
   ]
  },
  {
   "cell_type": "code",
   "execution_count": 136,
   "id": "8f2f958c-2376-448f-993c-8541d7b40c1c",
   "metadata": {},
   "outputs": [
    {
     "name": "stdout",
     "output_type": "stream",
     "text": [
      "   platform  total_sales\n",
      "4       PS4       314.14\n",
      "3       PS3       288.79\n",
      "9      X360       236.54\n",
      "0       3DS       194.61\n",
      "10     XOne       159.32\n",
      "8      WiiU        82.19\n",
      "2        PC        62.65\n",
      "6       PSV        49.18\n",
      "7       Wii        35.37\n",
      "1        DS        12.55\n",
      "5       PSP        11.19\n"
     ]
    }
   ],
   "source": [
    "## Analyze total sales by platform\n",
    "\n",
    "# Group by platform and sum the total sales\n",
    "platform_sales3 = games2.groupby('platform')['total_sales'].sum().reset_index()\n",
    "\n",
    "# Sort the platforms by total sales in descending order to see the most successful platforms\n",
    "platform_sales_sorted3 = platform_sales3.sort_values(by='total_sales', ascending=False)\n",
    "\n",
    "# Display the top platforms by total sales\n",
    "#print(platform_sales_sorted3.head(10))\n",
    "\n",
    "print(platform_sales_sorted3)\n",
    "\n",
    "# Potentially profitable platforms include PS4, PS3, and X360\n",
    "# DS and PSP look like they are declining in sales "
   ]
  },
  {
   "cell_type": "markdown",
   "id": "c05a7daf-cdb4-415f-8909-789e81a8e159",
   "metadata": {},
   "source": [
    "#### (3.6) Build a box plot for the global sales of all games, broken down by platform. Are the differences in sales significant? What about average sales on various platforms? "
   ]
  },
  {
   "cell_type": "code",
   "execution_count": 137,
   "id": "1438ab6d-5040-40ed-b3f1-abc5f972cf16",
   "metadata": {},
   "outputs": [],
   "source": [
    "## Filter profitable platforms      \n",
    "\n",
    "games4 = games2[(games2['platform'] == 'X360') | (games2['platform'] == 'PS3') | (games2['platform'] == 'PS4')\n",
    "             | (games2['platform'] == '3DS')  | (games2['platform'] == 'XOne') \n",
    "]"
   ]
  },
  {
   "cell_type": "code",
   "execution_count": 138,
   "id": "2052fad1-dba1-4498-844f-d8943aa57523",
   "metadata": {},
   "outputs": [
    {
     "data": {
      "text/plain": [
       "array(['PS3', 'X360', 'PS4', '3DS', 'XOne'], dtype=object)"
      ]
     },
     "execution_count": 138,
     "metadata": {},
     "output_type": "execute_result"
    }
   ],
   "source": [
    "games4['platform'].unique()"
   ]
  },
  {
   "cell_type": "code",
   "execution_count": 139,
   "id": "b9f2410f-f406-465c-9e6f-42f450aa218a",
   "metadata": {},
   "outputs": [
    {
     "name": "stderr",
     "output_type": "stream",
     "text": [
      "C:\\Users\\candi\\AppData\\Local\\Temp\\ipykernel_24176\\1642786809.py:6: FutureWarning: \n",
      "\n",
      "Passing `palette` without assigning `hue` is deprecated and will be removed in v0.14.0. Assign the `x` variable to `hue` and set `legend=False` for the same effect.\n",
      "\n",
      "  sns.boxplot(x='platform', y='total_sales', data=games4, palette=palette,showfliers = False) # remove outliers from box plot\n",
      "C:\\Users\\candi\\AppData\\Local\\Temp\\ipykernel_24176\\1642786809.py:6: UserWarning: The palette list has more values (9) than needed (5), which may not be intended.\n",
      "  sns.boxplot(x='platform', y='total_sales', data=games4, palette=palette,showfliers = False) # remove outliers from box plot\n"
     ]
    },
    {
     "data": {
      "image/png": "[encoded data removed]",
      "text/plain": [
       "<Figure size 640x480 with 1 Axes>"
      ]
     },
     "metadata": {},
     "output_type": "display_data"
    },
    {
     "name": "stdout",
     "output_type": "stream",
     "text": [
      "X360: Shows the highest median and the widest spread of sales data, indicating both strong sales performance and variability in sales.\n",
      "PS3: Has a smaller spread and lower median compared to newer platforms like X360, PS4, and XOne, suggesting more consistent but lower sales.\n",
      "PS4 and XOne: These platforms show similar median sales and spread, indicating comparable sales performance and variability.\n",
      "3DS: Displays the lowest total sales and has a much smaller range of sales, indicating less variability and lower overall performance compared to home consoles like X360 and PS4.\n",
      "\n"
     ]
    }
   ],
   "source": [
    "\n",
    "\n",
    "#plt.figure(figsize=(15, 10))\n",
    "\n",
    "# Color palette\n",
    "palette = sns.color_palette('husl', 9) \n",
    "\n",
    "sns.boxplot(x='platform', y='total_sales', data=games4, palette=palette,showfliers = False) # remove outliers from box plot\n",
    "\n",
    "# labels and title\n",
    "plt.title('Total Sales Distribution by Profitable Platforms')\n",
    "plt.xlabel('Platform')\n",
    "plt.ylabel('Total Sales (in millions)')\n",
    "\n",
    "\n",
    "plt.show()\n",
    "\n",
    "\n",
    "print('''X360: Shows the highest median and the widest spread of sales data, indicating both strong sales performance and variability in sales.\n",
    "PS3: Has a smaller spread and lower median compared to newer platforms like X360, PS4, and XOne, suggesting more consistent but lower sales.\n",
    "PS4 and XOne: These platforms show similar median sales and spread, indicating comparable sales performance and variability.\n",
    "3DS: Displays the lowest total sales and has a much smaller range of sales, indicating less variability and lower overall performance compared to home consoles like X360 and PS4.\n",
    "''')\n"
   ]
  },
  {
   "cell_type": "markdown",
   "id": "78a0ba71-4801-4336-ac7b-ca22ad2bcaca",
   "metadata": {},
   "source": [
    "##### (3.7)Take a look at how user and professional reviews affect sales for one popular platform (you choose). Build a scatter plot and calculate the correlation between reviews and sales. Draw conclusions."
   ]
  },
  {
   "cell_type": "code",
   "execution_count": 140,
   "id": "a145ff52-25c9-4071-a469-22bdadad7392",
   "metadata": {},
   "outputs": [
    {
     "data": {
      "image/png": "[encoded data removed]",
      "text/plain": [
       "<Figure size 640x480 with 1 Axes>"
      ]
     },
     "metadata": {},
     "output_type": "display_data"
    },
    {
     "name": "stdout",
     "output_type": "stream",
     "text": [
      "\n",
      "Most of the data points are clustered towards the lower end of the y-axis (sales below 2 million) and the mid-to-high end of the x-axis (critic scores between 60 and 90).\n",
      "There are a few outliers with higher total sales (above 10 million), but these are rare.\n",
      "There is no strong linear relationship visible between critic scores and total sales. \n",
      "It seems that games with higher critic scores don't necessarily result in significantly \n",
      "higher sales, at least not in a clear linear fashion.\n",
      "\n"
     ]
    }
   ],
   "source": [
    "\n",
    "x360 = games4[games4['platform'] == 'X360']\n",
    "\n",
    "x360.plot(x='critic_score', y='total_sales', kind='scatter')\n",
    "plt.show()\n",
    "\n",
    "print('''\n",
    "Most of the data points are clustered towards the lower end of the y-axis (sales below 2 million) and the mid-to-high end of the x-axis (critic scores between 60 and 90).\n",
    "There are a few outliers with higher total sales (above 10 million), but these are rare.\n",
    "There is no strong linear relationship visible between critic scores and total sales. \n",
    "It seems that games with higher critic scores don't necessarily result in significantly \n",
    "higher sales, at least not in a clear linear fashion.\n",
    "''')"
   ]
  },
  {
   "cell_type": "code",
   "execution_count": 141,
   "id": "6ba72cb3-9a3c-45d2-8b5e-d7b952a8b703",
   "metadata": {},
   "outputs": [
    {
     "data": {
      "image/png": "[encoded data removed]",
      "text/plain": [
       "<Figure size 640x480 with 1 Axes>"
      ]
     },
     "metadata": {},
     "output_type": "display_data"
    },
    {
     "name": "stdout",
     "output_type": "stream",
     "text": [
      "\n",
      "Some games with low user scores still achieve high sales.\n",
      "Other factors might be more important: User scores alone may not be a key factor in \n",
      "driving sales, and other elements (e.g., marketing, platform availability, game genre)\n",
      "could have more influence.\n",
      "\n"
     ]
    }
   ],
   "source": [
    "\n",
    "x360.plot(x='user_score', y='total_sales', kind='scatter')\n",
    "plt.show()\n",
    "\n",
    "print('''\n",
    "Some games with low user scores still achieve high sales.\n",
    "Other factors might be more important: User scores alone may not be a key factor in \n",
    "driving sales, and other elements (e.g., marketing, platform availability, game genre)\n",
    "could have more influence.\n",
    "''')\n"
   ]
  },
  {
   "cell_type": "markdown",
   "id": "9b5ade08-d9b6-4458-99af-bdbe93480cfb",
   "metadata": {},
   "source": [
    "##### (3.8) Keeping your conclusions in mind, compare the sales of the same games on other platforms."
   ]
  },
  {
   "cell_type": "code",
   "execution_count": 142,
   "id": "e344f27e-b6a3-456c-a336-a89289908f09",
   "metadata": {},
   "outputs": [
    {
     "data": {
      "image/png": "[encoded data removed]",
      "text/plain": [
       "<Figure size 640x480 with 1 Axes>"
      ]
     },
     "metadata": {},
     "output_type": "display_data"
    },
    {
     "name": "stdout",
     "output_type": "stream",
     "text": [
      "\n",
      "Although there is a general upward trend in sales with increasing critic scores, the\n",
      "relationship is not strongly linear. Games with higher critic scores don’t always achieve\n",
      "higher sales, and there is considerable variability, suggesting other factors may\n",
      "also influence total sales.\n",
      "\n",
      "\n"
     ]
    }
   ],
   "source": [
    "#x360 = games4[games4['platform'] == 'X360']\n",
    "#x360['name'].nunique()\n",
    "#for name in x360['name']:\n",
    "    #print(name)\n",
    "\n",
    "\n",
    "ps2 = games4[games4['platform'] == 'PS4']\n",
    "\n",
    "ps2.plot(x='critic_score', y='total_sales', kind='scatter')\n",
    "plt.show()\n",
    "\n",
    "\n",
    "print('''\n",
    "Although there is a general upward trend in sales with increasing critic scores, the\n",
    "relationship is not strongly linear. Games with higher critic scores don’t always achieve\n",
    "higher sales, and there is considerable variability, suggesting other factors may\n",
    "also influence total sales.\n",
    "\n",
    "''')"
   ]
  },
  {
   "cell_type": "code",
   "execution_count": 143,
   "id": "445681f8-c77b-4309-b893-08b406f6788a",
   "metadata": {},
   "outputs": [
    {
     "name": "stdout",
     "output_type": "stream",
     "text": [
      "                 year_of_release  total_sales\n",
      "year_of_release         1.000000    -0.109686\n",
      "total_sales            -0.109686     1.000000\n"
     ]
    }
   ],
   "source": [
    "# Correlation\n",
    "\n",
    "selected_columns = games4[['year_of_release', 'total_sales']]\n",
    "correlation_matrix = selected_columns.corr()\n",
    "\n",
    "print(correlation_matrix)\n",
    "\n",
    "# As the value of year_of_release increases (games are released in more recent years), the total_sales tends to decrease.\n",
    "# However, it is a weak and negative relationship."
   ]
  },
  {
   "cell_type": "markdown",
   "id": "1f0190dc-e219-4c5e-ac3b-f7fd63e71313",
   "metadata": {},
   "source": [
    "##### (3.9) Take a look at the general distribution of games by genre. What can we say about the most profitable genres? Can you generalize about genres with high and low sales?"
   ]
  },
  {
   "cell_type": "code",
   "execution_count": 144,
   "id": "f6801e47-c262-492d-9555-7c3e94ea0b1a",
   "metadata": {},
   "outputs": [
    {
     "name": "stdout",
     "output_type": "stream",
     "text": [
      "           genre  total_sales\n",
      "0         Action       376.25\n",
      "8        Shooter       282.11\n",
      "10        Sports       167.81\n",
      "7   Role-Playing       151.26\n",
      "3           Misc        48.78\n",
      "6         Racing        42.18\n",
      "2       Fighting        35.53\n",
      "4       Platform        34.13\n",
      "9     Simulation        25.16\n",
      "1      Adventure        22.68\n",
      "11      Strategy         4.79\n",
      "5         Puzzle         2.72\n"
     ]
    }
   ],
   "source": [
    "\n",
    "# Group by genre and sum the total sales\n",
    "genre = games4.groupby('genre')['total_sales'].sum().reset_index()\n",
    "\n",
    "# Sort the platforms by total sales\n",
    "genre2 = genre.sort_values(by='total_sales', ascending=False)\n",
    "\n",
    "\n",
    "print(genre2)\n",
    "\n",
    "# action has the highest total sales followed by sports, and shooter. Puzzle has the lowest sales. "
   ]
  },
  {
   "cell_type": "code",
   "execution_count": 145,
   "id": "24518896-7b90-4d5a-926b-d0ad7c6f311d",
   "metadata": {},
   "outputs": [
    {
     "name": "stderr",
     "output_type": "stream",
     "text": [
      "C:\\Users\\candi\\AppData\\Local\\Temp\\ipykernel_24176\\2306570390.py:7: FutureWarning: \n",
      "\n",
      "Passing `palette` without assigning `hue` is deprecated and will be removed in v0.14.0. Assign the `x` variable to `hue` and set `legend=False` for the same effect.\n",
      "\n",
      "  sns.boxplot(x='genre', y='total_sales', data=games4, showfliers = False, palette='Set2')\n"
     ]
    },
    {
     "data": {
      "image/png": "[encoded data removed]",
      "text/plain": [
       "<Figure size 1200x600 with 1 Axes>"
      ]
     },
     "metadata": {},
     "output_type": "display_data"
    },
    {
     "name": "stdout",
     "output_type": "stream",
     "text": [
      "The Shooter genre has a significantly higher median total sales compared to other\n",
      "genres, indicated by the taller box. The Action genre also has a relatively large spread, \n",
      "but its median sales are lower compared to Shooter. Genres like Racing, Role-Playing, and Sports\n",
      "have similar distributions, with moderate medians and fewer extreme variations in sales.\n",
      "Some genres, like Puzzle and Adventure, have consistently lower total sales across their\n",
      "ranges, with smaller IQRs and lower medians.\n",
      "\n"
     ]
    }
   ],
   "source": [
    "## Seaborn visualization\n",
    "\n",
    "\n",
    "plt.figure(figsize=(12,6))\n",
    "\n",
    "# boxplot using seaborn library\n",
    "sns.boxplot(x='genre', y='total_sales', data=games4, showfliers = False, palette='Set2')\n",
    "\n",
    "# Rotate the x-axis \n",
    "plt.xticks(rotation=90)\n",
    "\n",
    "\n",
    "plt.title('Total Sales by Genre', fontsize=14)\n",
    "plt.xlabel('Genre', fontsize=12)\n",
    "plt.ylabel('Total Sales', fontsize=12)\n",
    "\n",
    "plt.show()\n",
    "\n",
    "print('''The Shooter genre has a significantly higher median total sales compared to other\n",
    "genres, indicated by the taller box. The Action genre also has a relatively large spread, \n",
    "but its median sales are lower compared to Shooter. Genres like Racing, Role-Playing, and Sports\n",
    "have similar distributions, with moderate medians and fewer extreme variations in sales.\n",
    "Some genres, like Puzzle and Adventure, have consistently lower total sales across their\n",
    "ranges, with smaller IQRs and lower medians.\n",
    "''')"
   ]
  },
  {
   "cell_type": "markdown",
   "id": "0f06b94b-39b9-4400-ad11-37767f5f15c7",
   "metadata": {},
   "source": [
    "### Step 4. Create a user profile for each region"
   ]
  },
  {
   "cell_type": "markdown",
   "id": "1880b26f-d41c-407c-94f1-b878ae09a961",
   "metadata": {},
   "source": [
    "For each region:"
   ]
  },
  {
   "cell_type": "markdown",
   "id": "e4b50c85-ca4a-4e66-8533-f6b6363123b5",
   "metadata": {},
   "source": [
    "##### (4.1) The top five platforms. Describe variations in their market shares from region to region.\n"
   ]
  },
  {
   "cell_type": "code",
   "execution_count": 146,
   "id": "bb783c5e-4466-4c4a-9526-222aa9fbd87e",
   "metadata": {},
   "outputs": [
    {
     "name": "stdout",
     "output_type": "stream",
     "text": [
      "<class 'pandas.core.frame.DataFrame'>\n",
      "Index: 1820 entries, 16 to 16710\n",
      "Data columns (total 12 columns):\n",
      " #   Column           Non-Null Count  Dtype  \n",
      "---  ------           --------------  -----  \n",
      " 0   name             1820 non-null   object \n",
      " 1   platform         1820 non-null   object \n",
      " 2   year_of_release  1820 non-null   int32  \n",
      " 3   genre            1820 non-null   object \n",
      " 4   na_sales         1820 non-null   float64\n",
      " 5   eu_sales         1820 non-null   float64\n",
      " 6   jp_sales         1820 non-null   float64\n",
      " 7   other_sales      1820 non-null   float64\n",
      " 8   critic_score     910 non-null    float64\n",
      " 9   user_score       1071 non-null   float64\n",
      " 10  rating           1820 non-null   object \n",
      " 11  total_sales      1820 non-null   float64\n",
      "dtypes: float64(7), int32(1), object(4)\n",
      "memory usage: 177.7+ KB\n"
     ]
    }
   ],
   "source": [
    "games4.info() # using data from >=2012 and only selected profitable platforms "
   ]
  },
  {
   "cell_type": "code",
   "execution_count": 147,
   "id": "d1f4667e-0fb7-48ae-b523-6580525fe111",
   "metadata": {},
   "outputs": [
    {
     "name": "stdout",
     "output_type": "stream",
     "text": [
      "  platform  na_sales\n",
      "3     X360    140.05\n",
      "2      PS4    108.74\n",
      "1      PS3    103.38\n",
      "4     XOne     93.12\n",
      "0      3DS     55.31\n"
     ]
    }
   ],
   "source": [
    "# NA sales\n",
    "na = games4.groupby('platform')['na_sales'].sum().reset_index()\n",
    "\n",
    "# Sort the platforms by total sales in descending order to see the most successful platforms\n",
    "na_sorted = na.sort_values(by='na_sales', ascending=False)\n",
    "\n",
    "# Display the top platforms by total sales\n",
    "#print(platform_sales_sorted3.head(10))\n",
    "\n",
    "print(na_sorted.head(5))\n",
    "\n",
    "## NA sales dominated by Xbox 360, followed by PS4 and PS3"
   ]
  },
  {
   "cell_type": "code",
   "execution_count": 148,
   "id": "9e1b0ed0-1748-4ab1-830a-221863d27337",
   "metadata": {},
   "outputs": [
    {
     "name": "stdout",
     "output_type": "stream",
     "text": [
      "  platform  eu_sales\n",
      "2      PS4    141.09\n",
      "1      PS3    106.86\n",
      "3     X360     74.52\n",
      "4     XOne     51.59\n",
      "0      3DS     42.64\n"
     ]
    }
   ],
   "source": [
    "# EU sales\n",
    "\n",
    "eu = games4.groupby('platform')['eu_sales'].sum().reset_index()\n",
    "\n",
    "# Sort the platforms by total sales in descending order to see the most successful platforms\n",
    "eu_sorted = eu.sort_values(by='eu_sales', ascending=False)\n",
    "\n",
    "# Display the top platforms by total sales\n",
    "#print(platform_sales_sorted3.head(10))\n",
    "\n",
    "print(eu_sorted.head(5))\n",
    "\n",
    "## EU sales dominated by PS4, PS3, and X360\n",
    "\n"
   ]
  },
  {
   "cell_type": "code",
   "execution_count": 149,
   "id": "24da4a18-b09c-418d-89e8-0a41998e48e7",
   "metadata": {},
   "outputs": [
    {
     "name": "stdout",
     "output_type": "stream",
     "text": [
      "  platform  jp_sales\n",
      "0      3DS     87.79\n",
      "1      PS3     35.29\n",
      "2      PS4     15.96\n",
      "3     X360      1.57\n",
      "4     XOne      0.34\n"
     ]
    }
   ],
   "source": [
    "# JP sales\n",
    "\n",
    "jp = games4.groupby('platform')['jp_sales'].sum().reset_index()\n",
    "\n",
    "# Sort the platforms by total sales in descending order to see the most successful platforms\n",
    "jp_sorted = jp.sort_values(by='jp_sales', ascending=False)\n",
    "\n",
    "# Display the top platforms by total sales\n",
    "#print(platform_sales_sorted3.head(10))\n",
    "\n",
    "print(jp_sorted.head(5))\n",
    "\n",
    "# Strong preference for 3DS, PS3, PS4"
   ]
  },
  {
   "cell_type": "markdown",
   "id": "1d86e80f-d7cb-46e8-a9d3-2fac96ce5666",
   "metadata": {},
   "source": [
    "##### (4.2) The top five genres. Explain the difference."
   ]
  },
  {
   "cell_type": "code",
   "execution_count": 150,
   "id": "d1bc84f0-33f5-4e5a-90a9-15bd6f897924",
   "metadata": {},
   "outputs": [
    {
     "name": "stdout",
     "output_type": "stream",
     "text": [
      "           genre  na_sales\n",
      "0         Action    153.47\n",
      "8        Shooter    136.53\n",
      "10        Sports     77.65\n",
      "7   Role-Playing     51.81\n",
      "3           Misc     22.86\n"
     ]
    }
   ],
   "source": [
    "# NA sales\n",
    "na = games4.groupby('genre')['na_sales'].sum().reset_index()\n",
    "\n",
    "# Sort the platforms by total sales in descending order to see the most successful platforms\n",
    "na_sorted = na.sort_values(by='na_sales', ascending=False)\n",
    "\n",
    "# Display the top platforms by total sales\n",
    "#print(platform_sales_sorted3.head(10))\n",
    "\n",
    "print(na_sorted.head(5))\n",
    "\n",
    "# Action is top genre in NA region"
   ]
  },
  {
   "cell_type": "code",
   "execution_count": 151,
   "id": "8efa53a3-f9f8-445a-8f9b-463e35c6c526",
   "metadata": {},
   "outputs": [
    {
     "name": "stdout",
     "output_type": "stream",
     "text": [
      "           genre  eu_sales\n",
      "0         Action    136.51\n",
      "8        Shooter    102.87\n",
      "10        Sports     63.30\n",
      "7   Role-Playing     38.04\n",
      "6         Racing     22.70\n"
     ]
    }
   ],
   "source": [
    "# EU sales\n",
    "\n",
    "eu = games4.groupby('genre')['eu_sales'].sum().reset_index()\n",
    "\n",
    "# Sort the platforms by total sales in descending order to see the most successful platforms\n",
    "eu_sorted = eu.sort_values(by='eu_sales', ascending=False)\n",
    "\n",
    "# Display the top platforms by total sales\n",
    "#print(platform_sales_sorted3.head(10))\n",
    "\n",
    "print(eu_sorted.head(5))\n",
    "\n",
    "## Action is also the most popular genre \n"
   ]
  },
  {
   "cell_type": "code",
   "execution_count": 152,
   "id": "1034cafa-8631-4a2d-8305-f7bff29c80c7",
   "metadata": {},
   "outputs": [
    {
     "name": "stdout",
     "output_type": "stream",
     "text": [
      "          genre  jp_sales\n",
      "7  Role-Playing     49.49\n",
      "0        Action     40.95\n",
      "9    Simulation     10.23\n",
      "8       Shooter      7.58\n",
      "2      Fighting      7.41\n"
     ]
    }
   ],
   "source": [
    "# JP sales\n",
    "\n",
    "jp = games4.groupby('genre')['jp_sales'].sum().reset_index()\n",
    "\n",
    "# Sort the platforms by total sales in descending order to see the most successful platforms\n",
    "jp_sorted = jp.sort_values(by='jp_sales', ascending=False)\n",
    "\n",
    "# Display the top platforms by total sales\n",
    "#print(platform_sales_sorted3.head(10))\n",
    "\n",
    "print(jp_sorted.head(5))\n",
    "\n",
    "# The action genre is also most popular in JP"
   ]
  },
  {
   "cell_type": "markdown",
   "id": "9804cf0e-c966-4aba-99f0-c321305706c7",
   "metadata": {},
   "source": [
    "##### (4.3) Do ESRB ratings affect sales in individual regions?"
   ]
  },
  {
   "cell_type": "code",
   "execution_count": 153,
   "id": "bca9958e-e489-4447-93e2-f638b514f877",
   "metadata": {},
   "outputs": [
    {
     "data": {
      "text/plain": [
       "array(['M', '', 'E', 'T', 'E10+'], dtype=object)"
      ]
     },
     "execution_count": 153,
     "metadata": {},
     "output_type": "execute_result"
    }
   ],
   "source": [
    "games4['rating'].unique()\n",
    "# ESRB ratings: E=everyone, M=mature etc"
   ]
  },
  {
   "cell_type": "code",
   "execution_count": 154,
   "id": "c15d7b16-ac2c-4059-9b0d-ba3a35436911",
   "metadata": {},
   "outputs": [],
   "source": [
    "## Filter mature and everyone ratings\n",
    "\n",
    "mature_rating= games4[games4['rating']== 'M']\n",
    "\n",
    "everyone= games4[games4['rating']== 'E']\n"
   ]
  },
  {
   "cell_type": "code",
   "execution_count": 155,
   "id": "63c0e991-61e8-41a4-92f0-396663ef4183",
   "metadata": {},
   "outputs": [
    {
     "name": "stdout",
     "output_type": "stream",
     "text": [
      "42.822\n",
      "18.678000000000004\n"
     ]
    }
   ],
   "source": [
    "# NA sales\n",
    "na_mature = mature_rating.groupby('platform')['na_sales'].sum().reset_index()\n",
    "na_everyone = everyone.groupby('platform')['na_sales'].sum().reset_index()\n",
    "\n",
    "# Sort the platforms by total sales\n",
    "na_mature = na_mature.sort_values(by='na_sales', ascending=False)\n",
    "na_everyone= na_everyone.sort_values(by='na_sales', ascending=False)\n",
    "\n",
    "#print(na_sorted.head(5))\n",
    "#print(na_everyone.head(5))\n",
    "\n",
    "# average of the na_sales column\n",
    "average_sales_mature = na_mature['na_sales'].mean()\n",
    "print(average_sales_mature)\n",
    "\n",
    "# average of the na_sales column\n",
    "average_sales_everyone = na_everyone['na_sales'].mean()\n",
    "print(average_sales_everyone)\n",
    "\n",
    "\n",
    "## In the NA region: Movies that are rated as 'mature' have higher sales than movies rated for 'everyone'"
   ]
  },
  {
   "cell_type": "code",
   "execution_count": 156,
   "id": "fa966dd4-6494-41e9-9f46-aa9c7964883f",
   "metadata": {},
   "outputs": [
    {
     "data": {
      "image/png": "[encoded data removed]",
      "text/plain": [
       "<Figure size 1200x600 with 1 Axes>"
      ]
     },
     "metadata": {},
     "output_type": "display_data"
    }
   ],
   "source": [
    "# Visualization\n",
    "\n",
    "# Merging dataframes\n",
    "merged_sales = na_mature.merge(na_everyone, on='platform', suffixes=('_mature', '_everyone'))\n",
    "\n",
    "plt.figure(figsize=(12,6))\n",
    "\n",
    "# Stacked bars\n",
    "plt.bar(merged_sales['platform'], merged_sales['na_sales_mature'], label='Mature', color='blue')\n",
    "plt.bar(merged_sales['platform'], merged_sales['na_sales_everyone'], bottom=merged_sales['na_sales_mature'], label='Everyone', color='orange')\n",
    "\n",
    "# Adding labels and title\n",
    "plt.xlabel('Platform')\n",
    "plt.ylabel('NA Sales')\n",
    "plt.title('NA Sales Breakdown: Mature vs Everyone Rated Games by Platform')\n",
    "plt.xticks(rotation=90)\n",
    "plt.legend()\n",
    "\n",
    "# Display the plot\n",
    "plt.tight_layout()\n",
    "plt.show()"
   ]
  },
  {
   "cell_type": "code",
   "execution_count": 157,
   "id": "a3f72645-8dee-4d83-b1fa-fbd90a08e11b",
   "metadata": {},
   "outputs": [
    {
     "name": "stdout",
     "output_type": "stream",
     "text": [
      "           genre  eu_sales\n",
      "0         Action    136.51\n",
      "8        Shooter    102.87\n",
      "10        Sports     63.30\n",
      "7   Role-Playing     38.04\n",
      "6         Racing     22.70\n",
      "  platform  eu_sales\n",
      "2      PS4     27.56\n",
      "1      PS3     24.75\n",
      "0      3DS     14.64\n",
      "3     X360     14.30\n",
      "4     XOne     10.46\n",
      "34.513999999999996\n",
      "18.342000000000002\n"
     ]
    }
   ],
   "source": [
    "# EU sales\n",
    "\n",
    "# NA sales\n",
    "eu_mature = mature_rating.groupby('platform')['eu_sales'].sum().reset_index()\n",
    "eu_everyone = everyone.groupby('platform')['eu_sales'].sum().reset_index()\n",
    "\n",
    "# Sort the platforms by total sales in descending order to see the most successful platforms\n",
    "eu_mature = eu_mature.sort_values(by='eu_sales', ascending=False)\n",
    "eu_everyone= eu_everyone.sort_values(by='eu_sales', ascending=False)\n",
    "\n",
    "print(eu_sorted.head(5))\n",
    "print(eu_everyone.head(5))\n",
    "\n",
    "# average of the na_sales column\n",
    "average_sales_mature = eu_mature['eu_sales'].mean()\n",
    "print(average_sales_mature)\n",
    "\n",
    "# average of the na_sales column\n",
    "average_sales_everyone = eu_everyone['eu_sales'].mean()\n",
    "print(average_sales_everyone)\n",
    "\n",
    "\n",
    "\n",
    "## In the EU, In the NA region: Movies that are rated as 'mature' have higher sales than movies rated for 'everyone'"
   ]
  },
  {
   "cell_type": "code",
   "execution_count": 158,
   "id": "59ce6703-938c-4eef-9b34-7029fb054ec4",
   "metadata": {},
   "outputs": [
    {
     "data": {
      "image/png": "[encoded data removed]",
      "text/plain": [
       "<Figure size 1200x600 with 1 Axes>"
      ]
     },
     "metadata": {},
     "output_type": "display_data"
    }
   ],
   "source": [
    "# Visualization\n",
    "\n",
    "# Merging dataframes\n",
    "merged_sales = eu_mature.merge(eu_everyone, on='platform', suffixes=('_mature', '_everyone'))\n",
    "\n",
    "plt.figure(figsize=(12,6))\n",
    "\n",
    "# Stacked bars\n",
    "plt.bar(merged_sales['platform'], merged_sales['eu_sales_mature'], label='Mature', color='blue')\n",
    "plt.bar(merged_sales['platform'], merged_sales['eu_sales_everyone'], bottom=merged_sales['eu_sales_mature'], label='Everyone', color='orange')\n",
    "\n",
    "# Adding labels and title\n",
    "plt.xlabel('Platform')\n",
    "plt.ylabel('EU Sales')\n",
    "plt.title('EU Sales Breakdown: Mature vs Everyone Rated Games by Platform')\n",
    "plt.xticks(rotation=90)\n",
    "plt.legend()\n",
    "\n",
    "# Display the plot\n",
    "plt.tight_layout()\n",
    "plt.show()\n"
   ]
  },
  {
   "cell_type": "code",
   "execution_count": 159,
   "id": "e50ae503-e3d8-40b7-bbe8-527a25f927ad",
   "metadata": {},
   "outputs": [
    {
     "name": "stdout",
     "output_type": "stream",
     "text": [
      "          genre  jp_sales\n",
      "7  Role-Playing     49.49\n",
      "0        Action     40.95\n",
      "9    Simulation     10.23\n",
      "8       Shooter      7.58\n",
      "2      Fighting      7.41\n",
      "  platform  jp_sales\n",
      "0      3DS     16.29\n",
      "1      PS3      2.76\n",
      "2      PS4      0.84\n",
      "3     X360      0.05\n",
      "4     XOne      0.04\n",
      "3.7920000000000007\n",
      "3.996\n"
     ]
    }
   ],
   "source": [
    "# JP sales\n",
    "\n",
    "# NA sales\n",
    "jp_mature = mature_rating.groupby('platform')['jp_sales'].sum().reset_index()\n",
    "jp_everyone = everyone.groupby('platform')['jp_sales'].sum().reset_index()\n",
    "\n",
    "# Sort the platforms by total sales in descending order to see the most successful platforms\n",
    "jp_mature = jp_mature.sort_values(by='jp_sales', ascending=False)\n",
    "jp_everyone= jp_everyone.sort_values(by='jp_sales', ascending=False)\n",
    "\n",
    "print(jp_sorted.head(5))\n",
    "print(jp_everyone.head(5))\n",
    "\n",
    "# average of the na_sales column\n",
    "average_sales_mature = jp_mature['jp_sales'].mean()\n",
    "print(average_sales_mature)\n",
    "\n",
    "# average of the na_sales column\n",
    "average_sales_everyone = jp_everyone['jp_sales'].mean()\n",
    "print(average_sales_everyone)\n",
    "\n",
    "## Movies rated mature also have greater sales in JP.\n"
   ]
  },
  {
   "cell_type": "code",
   "execution_count": 160,
   "id": "dc95fd83-b623-4353-811c-e0eb2d2f15de",
   "metadata": {},
   "outputs": [
    {
     "data": {
      "image/png": "[encoded data removed]",
      "text/plain": [
       "<Figure size 1200x600 with 1 Axes>"
      ]
     },
     "metadata": {},
     "output_type": "display_data"
    }
   ],
   "source": [
    "# Visualization\n",
    "\n",
    "# Merging dataframes\n",
    "merged_sales = jp_mature.merge(jp_everyone, on='platform', suffixes=('_mature', '_everyone'))\n",
    "\n",
    "plt.figure(figsize=(12,6))\n",
    "\n",
    "# Stacked bars\n",
    "plt.bar(merged_sales['platform'], merged_sales['jp_sales_mature'], label='Mature', color='blue')\n",
    "plt.bar(merged_sales['platform'], merged_sales['jp_sales_everyone'], bottom=merged_sales['jp_sales_mature'], label='Everyone', color='orange')\n",
    "\n",
    "# Adding labels and title\n",
    "plt.xlabel('Platform')\n",
    "plt.ylabel('JP Sales')\n",
    "plt.title('JP Sales Breakdown: Mature vs Everyone Rated Games by Platform')\n",
    "plt.xticks(rotation=90)\n",
    "plt.legend()\n",
    "\n",
    "# Display the plot\n",
    "plt.tight_layout()\n",
    "plt.show()\n"
   ]
  },
  {
   "cell_type": "markdown",
   "id": "25238e45-c820-4cf8-812d-d90c81ce85c7",
   "metadata": {},
   "source": [
    "### Step 5. Testing hypotheses"
   ]
  },
  {
   "cell_type": "markdown",
   "id": "9c8b5f5d-4f59-4dcb-9559-e256517d2dc9",
   "metadata": {},
   "source": [
    "Hypothesis 1: Average user ratings of the Xbox One and PC platforms are the same:\n",
    "\n",
    "* Null hypothesis: The average user ratings of the Xbox One and PC platforms are the same.\n",
    "* Alternative hypothesis: The average user ratings of the Xbox One and PC platforms are not the same.\n",
    "  \n"
   ]
  },
  {
   "cell_type": "code",
   "execution_count": 161,
   "id": "3e0d5156-9568-4c59-a2cb-18f12a1cdb67",
   "metadata": {},
   "outputs": [
    {
     "data": {
      "text/plain": [
       "array(['PS3', 'X360', 'PS4', '3DS', 'DS', 'XOne', 'WiiU', 'Wii', 'PC',\n",
       "       'PSV', 'PSP'], dtype=object)"
      ]
     },
     "execution_count": 161,
     "metadata": {},
     "output_type": "execute_result"
    }
   ],
   "source": [
    "games2['platform'].unique()"
   ]
  },
  {
   "cell_type": "code",
   "execution_count": 162,
   "id": "137814c2-4d7b-4a71-ac87-c2459ca5d184",
   "metadata": {},
   "outputs": [],
   "source": [
    "# Filter for Xbox One and PC platforms \n",
    "xbox=games2[games2['platform'] == 'XOne']\n",
    "xbox_sample=xbox['user_score']\n",
    "\n",
    "pc=games2[games2['platform'] == 'PC']\n",
    "pc_sample=pc['user_score']"
   ]
  },
  {
   "cell_type": "code",
   "execution_count": 163,
   "id": "95f7cc1a-29aa-452f-8cb3-eda3e64c4402",
   "metadata": {},
   "outputs": [
    {
     "data": {
      "text/plain": [
       "pandas.core.series.Series"
      ]
     },
     "execution_count": 163,
     "metadata": {},
     "output_type": "execute_result"
    }
   ],
   "source": [
    "type(xbox_sample)"
   ]
  },
  {
   "cell_type": "code",
   "execution_count": 164,
   "id": "2db22661-ca19-4ef9-84e6-054bb953a58e",
   "metadata": {},
   "outputs": [
    {
     "data": {
      "text/plain": [
       "1.8965188383045526"
      ]
     },
     "execution_count": 164,
     "metadata": {},
     "output_type": "execute_result"
    }
   ],
   "source": [
    "np.var(xbox_sample)\n"
   ]
  },
  {
   "cell_type": "code",
   "execution_count": 165,
   "id": "ec06b872-d909-45d1-a093-51a1b042bdcf",
   "metadata": {},
   "outputs": [
    {
     "data": {
      "text/plain": [
       "2.7569952398906588"
      ]
     },
     "execution_count": 165,
     "metadata": {},
     "output_type": "execute_result"
    }
   ],
   "source": [
    "np.var(pc_sample)"
   ]
  },
  {
   "cell_type": "code",
   "execution_count": 166,
   "id": "581415c6-f09a-4687-a86d-3213625759c2",
   "metadata": {},
   "outputs": [
    {
     "name": "stdout",
     "output_type": "stream",
     "text": [
      "p-value:  0.5535080500643661\n",
      "We can't reject the null hypothesis\n"
     ]
    }
   ],
   "source": [
    "xbox_sample = xbox_sample.dropna()\n",
    "pc_sample = pc_sample.dropna()\n",
    "\n",
    "alpha = 0.05  # critical statistical significance level\n",
    "# This 5% threshold is one common measure of statistical significance. \n",
    "\n",
    "results = st.ttest_ind(xbox_sample, pc_sample)\n",
    "\n",
    "print('p-value: ', results.pvalue)\n",
    "\n",
    "if results.pvalue < alpha:\n",
    "    print(\"We reject the null hypothesis\")\n",
    "else:\n",
    "    print(\"We can't reject the null hypothesis\")\n",
    "\n",
    "\n",
    "## We can't reject the null hypothesis. It is possible the platforms are the same."
   ]
  },
  {
   "cell_type": "markdown",
   "id": "b0a2df85-1aae-4262-b069-f46749804f07",
   "metadata": {},
   "source": [
    "Hypothesis 2: Average user ratings for the Action and Sports genres are different:\n",
    "\n",
    "* Null hypothesis: Average user ratings for the Action and Sports genres are different.\n",
    "* Alternative hypothesis: Average user ratings for the Action and Sports genres are the same.\n",
    "\n"
   ]
  },
  {
   "cell_type": "code",
   "execution_count": 167,
   "id": "6d605f3e-adbc-47fb-a920-7541070df59c",
   "metadata": {},
   "outputs": [],
   "source": [
    "# Filter for Action and Sports genres\n",
    "action=games2[games2['genre'] == 'Action']\n",
    "action_sample=action['user_score']\n",
    "\n",
    "sport=games2[games2['genre'] == 'Sports']\n",
    "sport_sample=sport['user_score']"
   ]
  },
  {
   "cell_type": "code",
   "execution_count": 168,
   "id": "1734e208-1f0a-4297-8c43-6aa5fb75859c",
   "metadata": {},
   "outputs": [
    {
     "name": "stdout",
     "output_type": "stream",
     "text": [
      "p-value:  3.7163089460934874e-26\n",
      "We reject the null hypothesis\n"
     ]
    }
   ],
   "source": [
    "action_sample = action_sample.dropna()\n",
    "sport_sample = sport_sample.dropna()\n",
    "\n",
    "alpha = 0.05  \n",
    "\n",
    "\n",
    "results = st.ttest_ind(action_sample, sport_sample)\n",
    "\n",
    "print('p-value: ', results.pvalue)\n",
    "\n",
    "if results.pvalue < alpha:\n",
    "    print(\"We reject the null hypothesis\")\n",
    "else:\n",
    "    print(\"We can't reject the null hypothesis\")\n",
    "\n",
    "## we can reject null and conclude that user ratings for sport and action are different."
   ]
  },
  {
   "cell_type": "markdown",
   "id": "19739db9-bd6f-4c17-91cd-dc86e009beb2",
   "metadata": {},
   "source": [
    "## Step 6: conclusions"
   ]
  },
  {
   "cell_type": "markdown",
   "id": "a0ee85b5-c6c0-4453-a175-8cac420d92d4",
   "metadata": {},
   "source": [
    "*Genre Sales Performance:*\n",
    "* The top three genres with the highest total sales are action, sports, and shooter, while puzzle genre has the lowest sales. This insight could be useful for targeting certain genres in advertising or game development strategies.\n",
    "* Game developers and advertisers should prioritize targeting these high-performing genres, allocating more marketing resources to attract players interested in Action, Sports, and Shooter games.\n",
    "* Puzzle games might require specialized marketing to target certain audiences, and developers should consider whether creating new puzzle games offers a strong return on investment.\n",
    "\n",
    "*Platform performance:*\n",
    "* The platforms with the highest sales include PS4,  PS, and   X360.\n",
    "* A special focus is placed on identifying platforms that had historical sales but zero sales in the most recent year (obsolete platforms: DS and PSP SNES, and PS). These platforms are no longer generating sales, indicating a shift in market trends toward newer consoles.\n",
    "* For developers, this highlights the importance of creating games for consoles that have a large user base. However, the focus should remain on newer platforms like PS4 to stay aligned with market trends.\n",
    "\n",
    "*Region differences by platform:*\n",
    "* NA sales PS3, PS4 and X360\n",
    "* EU sales dominated by PS3, X360, and a strong preference for PS3, PS4, and DS PS3, and Wii\n",
    "* JP sales dominated by 3DS, PS3, and PS496\n",
    "* Advertising strategies should be tailored by region. For examplePlaystation x games should focus on the North Americaand European n market, while PlayStation an3d DS titles can prioritize marketing d Japan.\n",
    "\n",
    "*Region differences by genre:*\n",
    "* In NA and EUa Action is the most popular genre\n",
    "* In JP, role-playing is the most popular genre followed by action\n",
    "* Game developers should focus on creating role-playing games for the Japanese market, as these have the most appeal, while continuing to develop action games for botNA and EU n markets.\n",
    "\n",
    "*Regional differences and ESRB ratings:*\n",
    "* In all regions: Movies that are rated as 'Everyone' have lower sales than movies rateas 'Mature'.'.\n",
    "* Game developers targeting global markets should prioritize creating \"Mature\" ratings to maximize saless.\n"
   ]
  }
 ],
 "metadata": {
  "ExecuteTimeLog": [
   {
    "duration": 2350,
    "start_time": "2024-09-22T19:37:35.107Z"
   },
   {
    "duration": 84,
    "start_time": "2024-09-22T19:37:37.459Z"
   },
   {
    "duration": 18,
    "start_time": "2024-09-22T19:37:37.545Z"
   },
   {
    "duration": 10,
    "start_time": "2024-09-22T19:37:37.565Z"
   },
   {
    "duration": 12,
    "start_time": "2024-09-22T19:37:37.577Z"
   },
   {
    "duration": 154,
    "start_time": "2024-09-22T19:37:37.591Z"
   },
   {
    "duration": 0,
    "start_time": "2024-09-22T19:37:37.748Z"
   },
   {
    "duration": 0,
    "start_time": "2024-09-22T19:37:37.750Z"
   },
   {
    "duration": 0,
    "start_time": "2024-09-22T19:37:37.751Z"
   },
   {
    "duration": 0,
    "start_time": "2024-09-22T19:37:37.752Z"
   },
   {
    "duration": 0,
    "start_time": "2024-09-22T19:37:37.754Z"
   },
   {
    "duration": 0,
    "start_time": "2024-09-22T19:37:37.755Z"
   },
   {
    "duration": 0,
    "start_time": "2024-09-22T19:37:37.756Z"
   },
   {
    "duration": 0,
    "start_time": "2024-09-22T19:37:37.757Z"
   },
   {
    "duration": 0,
    "start_time": "2024-09-22T19:37:37.758Z"
   },
   {
    "duration": 0,
    "start_time": "2024-09-22T19:37:37.759Z"
   },
   {
    "duration": 0,
    "start_time": "2024-09-22T19:37:37.760Z"
   },
   {
    "duration": 0,
    "start_time": "2024-09-22T19:37:37.761Z"
   },
   {
    "duration": 0,
    "start_time": "2024-09-22T19:37:37.762Z"
   },
   {
    "duration": 0,
    "start_time": "2024-09-22T19:37:37.763Z"
   },
   {
    "duration": 0,
    "start_time": "2024-09-22T19:37:37.764Z"
   },
   {
    "duration": 0,
    "start_time": "2024-09-22T19:37:37.765Z"
   },
   {
    "duration": 0,
    "start_time": "2024-09-22T19:37:37.766Z"
   },
   {
    "duration": 0,
    "start_time": "2024-09-22T19:37:37.767Z"
   },
   {
    "duration": 0,
    "start_time": "2024-09-22T19:37:37.768Z"
   },
   {
    "duration": 0,
    "start_time": "2024-09-22T19:37:37.769Z"
   },
   {
    "duration": 0,
    "start_time": "2024-09-22T19:37:37.770Z"
   },
   {
    "duration": 0,
    "start_time": "2024-09-22T19:37:37.771Z"
   },
   {
    "duration": 0,
    "start_time": "2024-09-22T19:37:37.772Z"
   },
   {
    "duration": 0,
    "start_time": "2024-09-22T19:37:37.773Z"
   },
   {
    "duration": 0,
    "start_time": "2024-09-22T19:37:37.774Z"
   },
   {
    "duration": 0,
    "start_time": "2024-09-22T19:37:37.775Z"
   },
   {
    "duration": 0,
    "start_time": "2024-09-22T19:37:37.776Z"
   },
   {
    "duration": 0,
    "start_time": "2024-09-22T19:37:37.777Z"
   },
   {
    "duration": 1,
    "start_time": "2024-09-22T19:37:37.777Z"
   },
   {
    "duration": 0,
    "start_time": "2024-09-22T19:37:37.778Z"
   },
   {
    "duration": 0,
    "start_time": "2024-09-22T19:37:37.779Z"
   },
   {
    "duration": 0,
    "start_time": "2024-09-22T19:37:37.823Z"
   },
   {
    "duration": 0,
    "start_time": "2024-09-22T19:37:37.825Z"
   },
   {
    "duration": 0,
    "start_time": "2024-09-22T19:37:37.826Z"
   },
   {
    "duration": 0,
    "start_time": "2024-09-22T19:37:37.827Z"
   },
   {
    "duration": 0,
    "start_time": "2024-09-22T19:37:37.828Z"
   },
   {
    "duration": 0,
    "start_time": "2024-09-22T19:37:37.829Z"
   },
   {
    "duration": 0,
    "start_time": "2024-09-22T19:37:37.830Z"
   },
   {
    "duration": 0,
    "start_time": "2024-09-22T19:37:37.831Z"
   },
   {
    "duration": 0,
    "start_time": "2024-09-22T19:37:37.832Z"
   },
   {
    "duration": 0,
    "start_time": "2024-09-22T19:37:37.837Z"
   },
   {
    "duration": 0,
    "start_time": "2024-09-22T19:37:37.838Z"
   },
   {
    "duration": 0,
    "start_time": "2024-09-22T19:37:37.839Z"
   },
   {
    "duration": 0,
    "start_time": "2024-09-22T19:37:37.840Z"
   },
   {
    "duration": 0,
    "start_time": "2024-09-22T19:37:37.841Z"
   },
   {
    "duration": 0,
    "start_time": "2024-09-22T19:37:37.842Z"
   },
   {
    "duration": 0,
    "start_time": "2024-09-22T19:37:37.843Z"
   },
   {
    "duration": 0,
    "start_time": "2024-09-22T19:37:37.844Z"
   },
   {
    "duration": 0,
    "start_time": "2024-09-22T19:37:37.845Z"
   },
   {
    "duration": 0,
    "start_time": "2024-09-22T19:37:37.846Z"
   },
   {
    "duration": 0,
    "start_time": "2024-09-22T19:37:37.847Z"
   },
   {
    "duration": 0,
    "start_time": "2024-09-22T19:37:37.848Z"
   },
   {
    "duration": 0,
    "start_time": "2024-09-22T19:37:37.849Z"
   },
   {
    "duration": 0,
    "start_time": "2024-09-22T19:37:37.850Z"
   },
   {
    "duration": 0,
    "start_time": "2024-09-22T19:37:37.851Z"
   },
   {
    "duration": 0,
    "start_time": "2024-09-22T19:37:37.852Z"
   },
   {
    "duration": 0,
    "start_time": "2024-09-22T19:37:37.853Z"
   },
   {
    "duration": 0,
    "start_time": "2024-09-22T19:37:37.855Z"
   },
   {
    "duration": 0,
    "start_time": "2024-09-22T19:37:37.856Z"
   },
   {
    "duration": 0,
    "start_time": "2024-09-22T19:37:37.856Z"
   },
   {
    "duration": 0,
    "start_time": "2024-09-22T19:37:37.857Z"
   },
   {
    "duration": 0,
    "start_time": "2024-09-22T19:37:37.859Z"
   },
   {
    "duration": 0,
    "start_time": "2024-09-22T19:37:37.859Z"
   },
   {
    "duration": 0,
    "start_time": "2024-09-22T19:37:37.860Z"
   },
   {
    "duration": 0,
    "start_time": "2024-09-22T19:37:37.861Z"
   },
   {
    "duration": 2435,
    "start_time": "2024-09-23T21:14:45.809Z"
   },
   {
    "duration": 39,
    "start_time": "2024-09-23T21:14:48.246Z"
   },
   {
    "duration": 17,
    "start_time": "2024-09-23T21:14:48.286Z"
   },
   {
    "duration": 10,
    "start_time": "2024-09-23T21:14:48.307Z"
   },
   {
    "duration": 11,
    "start_time": "2024-09-23T21:14:48.319Z"
   },
   {
    "duration": 132,
    "start_time": "2024-09-23T21:14:48.332Z"
   },
   {
    "duration": 0,
    "start_time": "2024-09-23T21:14:48.468Z"
   },
   {
    "duration": 0,
    "start_time": "2024-09-23T21:14:48.469Z"
   },
   {
    "duration": 0,
    "start_time": "2024-09-23T21:14:48.471Z"
   },
   {
    "duration": 0,
    "start_time": "2024-09-23T21:14:48.472Z"
   },
   {
    "duration": 0,
    "start_time": "2024-09-23T21:14:48.474Z"
   },
   {
    "duration": 0,
    "start_time": "2024-09-23T21:14:48.476Z"
   },
   {
    "duration": 0,
    "start_time": "2024-09-23T21:14:48.477Z"
   },
   {
    "duration": 0,
    "start_time": "2024-09-23T21:14:48.478Z"
   },
   {
    "duration": 0,
    "start_time": "2024-09-23T21:14:48.479Z"
   },
   {
    "duration": 0,
    "start_time": "2024-09-23T21:14:48.480Z"
   },
   {
    "duration": 0,
    "start_time": "2024-09-23T21:14:48.481Z"
   },
   {
    "duration": 0,
    "start_time": "2024-09-23T21:14:48.481Z"
   },
   {
    "duration": 0,
    "start_time": "2024-09-23T21:14:48.482Z"
   },
   {
    "duration": 0,
    "start_time": "2024-09-23T21:14:48.483Z"
   },
   {
    "duration": 0,
    "start_time": "2024-09-23T21:14:48.484Z"
   },
   {
    "duration": 0,
    "start_time": "2024-09-23T21:14:48.486Z"
   },
   {
    "duration": 0,
    "start_time": "2024-09-23T21:14:48.487Z"
   },
   {
    "duration": 0,
    "start_time": "2024-09-23T21:14:48.523Z"
   },
   {
    "duration": 0,
    "start_time": "2024-09-23T21:14:48.525Z"
   },
   {
    "duration": 0,
    "start_time": "2024-09-23T21:14:48.527Z"
   },
   {
    "duration": 0,
    "start_time": "2024-09-23T21:14:48.529Z"
   },
   {
    "duration": 0,
    "start_time": "2024-09-23T21:14:48.531Z"
   },
   {
    "duration": 0,
    "start_time": "2024-09-23T21:14:48.532Z"
   },
   {
    "duration": 0,
    "start_time": "2024-09-23T21:14:48.534Z"
   },
   {
    "duration": 0,
    "start_time": "2024-09-23T21:14:48.535Z"
   },
   {
    "duration": 0,
    "start_time": "2024-09-23T21:14:48.537Z"
   },
   {
    "duration": 0,
    "start_time": "2024-09-23T21:14:48.538Z"
   },
   {
    "duration": 0,
    "start_time": "2024-09-23T21:14:48.539Z"
   },
   {
    "duration": 0,
    "start_time": "2024-09-23T21:14:48.541Z"
   },
   {
    "duration": 0,
    "start_time": "2024-09-23T21:14:48.542Z"
   },
   {
    "duration": 0,
    "start_time": "2024-09-23T21:14:48.544Z"
   },
   {
    "duration": 0,
    "start_time": "2024-09-23T21:14:48.545Z"
   },
   {
    "duration": 0,
    "start_time": "2024-09-23T21:14:48.547Z"
   },
   {
    "duration": 0,
    "start_time": "2024-09-23T21:14:48.548Z"
   },
   {
    "duration": 0,
    "start_time": "2024-09-23T21:14:48.549Z"
   },
   {
    "duration": 0,
    "start_time": "2024-09-23T21:14:48.550Z"
   },
   {
    "duration": 0,
    "start_time": "2024-09-23T21:14:48.552Z"
   },
   {
    "duration": 0,
    "start_time": "2024-09-23T21:14:48.554Z"
   },
   {
    "duration": 0,
    "start_time": "2024-09-23T21:14:48.556Z"
   },
   {
    "duration": 0,
    "start_time": "2024-09-23T21:14:48.557Z"
   },
   {
    "duration": 0,
    "start_time": "2024-09-23T21:14:48.559Z"
   },
   {
    "duration": 0,
    "start_time": "2024-09-23T21:14:48.560Z"
   },
   {
    "duration": 0,
    "start_time": "2024-09-23T21:14:48.562Z"
   },
   {
    "duration": 0,
    "start_time": "2024-09-23T21:14:48.563Z"
   },
   {
    "duration": 0,
    "start_time": "2024-09-23T21:14:48.623Z"
   },
   {
    "duration": 0,
    "start_time": "2024-09-23T21:14:48.625Z"
   },
   {
    "duration": 0,
    "start_time": "2024-09-23T21:14:48.626Z"
   },
   {
    "duration": 0,
    "start_time": "2024-09-23T21:14:48.627Z"
   },
   {
    "duration": 0,
    "start_time": "2024-09-23T21:14:48.629Z"
   },
   {
    "duration": 0,
    "start_time": "2024-09-23T21:14:48.630Z"
   },
   {
    "duration": 0,
    "start_time": "2024-09-23T21:14:48.632Z"
   },
   {
    "duration": 0,
    "start_time": "2024-09-23T21:14:48.633Z"
   },
   {
    "duration": 0,
    "start_time": "2024-09-23T21:14:48.634Z"
   },
   {
    "duration": 0,
    "start_time": "2024-09-23T21:14:48.636Z"
   },
   {
    "duration": 0,
    "start_time": "2024-09-23T21:14:48.638Z"
   },
   {
    "duration": 0,
    "start_time": "2024-09-23T21:14:48.639Z"
   },
   {
    "duration": 0,
    "start_time": "2024-09-23T21:14:48.641Z"
   },
   {
    "duration": 0,
    "start_time": "2024-09-23T21:14:48.642Z"
   },
   {
    "duration": 0,
    "start_time": "2024-09-23T21:14:48.643Z"
   },
   {
    "duration": 0,
    "start_time": "2024-09-23T21:14:48.645Z"
   },
   {
    "duration": 0,
    "start_time": "2024-09-23T21:14:48.647Z"
   },
   {
    "duration": 0,
    "start_time": "2024-09-23T21:14:48.648Z"
   },
   {
    "duration": 0,
    "start_time": "2024-09-23T21:14:48.649Z"
   },
   {
    "duration": 0,
    "start_time": "2024-09-23T21:14:48.651Z"
   },
   {
    "duration": 0,
    "start_time": "2024-09-23T21:14:48.652Z"
   },
   {
    "duration": 16,
    "start_time": "2024-09-23T21:14:56.219Z"
   },
   {
    "duration": 2,
    "start_time": "2024-09-23T21:15:33.280Z"
   },
   {
    "duration": 23,
    "start_time": "2024-09-23T21:15:35.454Z"
   },
   {
    "duration": 16,
    "start_time": "2024-09-23T21:15:37.167Z"
   },
   {
    "duration": 483,
    "start_time": "2024-09-23T21:15:48.405Z"
   },
   {
    "duration": 12,
    "start_time": "2024-09-23T21:16:04.795Z"
   },
   {
    "duration": 5,
    "start_time": "2024-09-23T21:16:16.133Z"
   },
   {
    "duration": 817,
    "start_time": "2024-09-23T21:16:31.783Z"
   },
   {
    "duration": 35,
    "start_time": "2024-09-23T21:16:32.604Z"
   },
   {
    "duration": 18,
    "start_time": "2024-09-23T21:16:32.641Z"
   },
   {
    "duration": 11,
    "start_time": "2024-09-23T21:16:32.661Z"
   },
   {
    "duration": 15,
    "start_time": "2024-09-23T21:16:32.674Z"
   },
   {
    "duration": 4,
    "start_time": "2024-09-23T21:16:32.691Z"
   },
   {
    "duration": 31,
    "start_time": "2024-09-23T21:16:32.697Z"
   },
   {
    "duration": 145,
    "start_time": "2024-09-23T21:16:32.731Z"
   },
   {
    "duration": 0,
    "start_time": "2024-09-23T21:16:32.880Z"
   },
   {
    "duration": 0,
    "start_time": "2024-09-23T21:16:32.881Z"
   },
   {
    "duration": 0,
    "start_time": "2024-09-23T21:16:32.882Z"
   },
   {
    "duration": 0,
    "start_time": "2024-09-23T21:16:32.883Z"
   },
   {
    "duration": 0,
    "start_time": "2024-09-23T21:16:32.884Z"
   },
   {
    "duration": 0,
    "start_time": "2024-09-23T21:16:32.884Z"
   },
   {
    "duration": 0,
    "start_time": "2024-09-23T21:16:32.885Z"
   },
   {
    "duration": 0,
    "start_time": "2024-09-23T21:16:32.886Z"
   },
   {
    "duration": 0,
    "start_time": "2024-09-23T21:16:32.887Z"
   },
   {
    "duration": 0,
    "start_time": "2024-09-23T21:16:32.888Z"
   },
   {
    "duration": 0,
    "start_time": "2024-09-23T21:16:32.889Z"
   },
   {
    "duration": 0,
    "start_time": "2024-09-23T21:16:32.890Z"
   },
   {
    "duration": 0,
    "start_time": "2024-09-23T21:16:32.891Z"
   },
   {
    "duration": 0,
    "start_time": "2024-09-23T21:16:32.892Z"
   },
   {
    "duration": 0,
    "start_time": "2024-09-23T21:16:32.893Z"
   },
   {
    "duration": 0,
    "start_time": "2024-09-23T21:16:32.893Z"
   },
   {
    "duration": 0,
    "start_time": "2024-09-23T21:16:32.895Z"
   },
   {
    "duration": 0,
    "start_time": "2024-09-23T21:16:32.896Z"
   },
   {
    "duration": 0,
    "start_time": "2024-09-23T21:16:32.896Z"
   },
   {
    "duration": 0,
    "start_time": "2024-09-23T21:16:32.897Z"
   },
   {
    "duration": 0,
    "start_time": "2024-09-23T21:16:32.898Z"
   },
   {
    "duration": 0,
    "start_time": "2024-09-23T21:16:32.899Z"
   },
   {
    "duration": 0,
    "start_time": "2024-09-23T21:16:32.900Z"
   },
   {
    "duration": 0,
    "start_time": "2024-09-23T21:16:32.900Z"
   },
   {
    "duration": 0,
    "start_time": "2024-09-23T21:16:32.901Z"
   },
   {
    "duration": 0,
    "start_time": "2024-09-23T21:16:32.901Z"
   },
   {
    "duration": 0,
    "start_time": "2024-09-23T21:16:32.902Z"
   },
   {
    "duration": 0,
    "start_time": "2024-09-23T21:16:32.902Z"
   },
   {
    "duration": 0,
    "start_time": "2024-09-23T21:16:32.903Z"
   },
   {
    "duration": 0,
    "start_time": "2024-09-23T21:16:32.923Z"
   },
   {
    "duration": 0,
    "start_time": "2024-09-23T21:16:32.925Z"
   },
   {
    "duration": 0,
    "start_time": "2024-09-23T21:16:32.925Z"
   },
   {
    "duration": 0,
    "start_time": "2024-09-23T21:16:32.927Z"
   },
   {
    "duration": 0,
    "start_time": "2024-09-23T21:16:32.928Z"
   },
   {
    "duration": 0,
    "start_time": "2024-09-23T21:16:32.929Z"
   },
   {
    "duration": 0,
    "start_time": "2024-09-23T21:16:32.930Z"
   },
   {
    "duration": 0,
    "start_time": "2024-09-23T21:16:32.931Z"
   },
   {
    "duration": 0,
    "start_time": "2024-09-23T21:16:32.932Z"
   },
   {
    "duration": 0,
    "start_time": "2024-09-23T21:16:32.933Z"
   },
   {
    "duration": 0,
    "start_time": "2024-09-23T21:16:32.934Z"
   },
   {
    "duration": 0,
    "start_time": "2024-09-23T21:16:32.935Z"
   },
   {
    "duration": 0,
    "start_time": "2024-09-23T21:16:32.936Z"
   },
   {
    "duration": 0,
    "start_time": "2024-09-23T21:16:32.937Z"
   },
   {
    "duration": 0,
    "start_time": "2024-09-23T21:16:32.938Z"
   },
   {
    "duration": 0,
    "start_time": "2024-09-23T21:16:32.939Z"
   },
   {
    "duration": 0,
    "start_time": "2024-09-23T21:16:32.940Z"
   },
   {
    "duration": 0,
    "start_time": "2024-09-23T21:16:32.941Z"
   },
   {
    "duration": 0,
    "start_time": "2024-09-23T21:16:32.942Z"
   },
   {
    "duration": 0,
    "start_time": "2024-09-23T21:16:32.943Z"
   },
   {
    "duration": 0,
    "start_time": "2024-09-23T21:16:32.945Z"
   },
   {
    "duration": 0,
    "start_time": "2024-09-23T21:16:32.946Z"
   },
   {
    "duration": 0,
    "start_time": "2024-09-23T21:16:32.947Z"
   },
   {
    "duration": 0,
    "start_time": "2024-09-23T21:16:32.948Z"
   },
   {
    "duration": 0,
    "start_time": "2024-09-23T21:16:32.949Z"
   },
   {
    "duration": 0,
    "start_time": "2024-09-23T21:16:32.950Z"
   },
   {
    "duration": 0,
    "start_time": "2024-09-23T21:16:32.951Z"
   },
   {
    "duration": 0,
    "start_time": "2024-09-23T21:16:32.953Z"
   },
   {
    "duration": 0,
    "start_time": "2024-09-23T21:16:32.954Z"
   },
   {
    "duration": 0,
    "start_time": "2024-09-23T21:16:32.955Z"
   },
   {
    "duration": 0,
    "start_time": "2024-09-23T21:16:32.956Z"
   },
   {
    "duration": 0,
    "start_time": "2024-09-23T21:16:32.957Z"
   },
   {
    "duration": 0,
    "start_time": "2024-09-23T21:16:32.958Z"
   },
   {
    "duration": 0,
    "start_time": "2024-09-23T21:16:32.959Z"
   },
   {
    "duration": 6,
    "start_time": "2024-09-23T21:17:02.384Z"
   },
   {
    "duration": 14,
    "start_time": "2024-09-23T21:17:06.774Z"
   },
   {
    "duration": 13,
    "start_time": "2024-09-23T21:17:36.825Z"
   },
   {
    "duration": 11,
    "start_time": "2024-09-23T21:17:45.660Z"
   },
   {
    "duration": 12,
    "start_time": "2024-09-23T21:17:47.687Z"
   },
   {
    "duration": 15,
    "start_time": "2024-09-23T21:18:37.432Z"
   },
   {
    "duration": 13,
    "start_time": "2024-09-23T21:19:10.214Z"
   },
   {
    "duration": 9,
    "start_time": "2024-09-23T21:19:14.140Z"
   },
   {
    "duration": 11,
    "start_time": "2024-09-23T21:19:22.121Z"
   },
   {
    "duration": 753,
    "start_time": "2024-09-23T21:20:38.319Z"
   },
   {
    "duration": 23,
    "start_time": "2024-09-23T21:20:39.075Z"
   },
   {
    "duration": 30,
    "start_time": "2024-09-23T21:20:39.100Z"
   },
   {
    "duration": 11,
    "start_time": "2024-09-23T21:20:39.132Z"
   },
   {
    "duration": 13,
    "start_time": "2024-09-23T21:20:39.145Z"
   },
   {
    "duration": 11,
    "start_time": "2024-09-23T21:20:39.159Z"
   },
   {
    "duration": 4,
    "start_time": "2024-09-23T21:20:39.172Z"
   },
   {
    "duration": 9,
    "start_time": "2024-09-23T21:20:39.177Z"
   },
   {
    "duration": 44,
    "start_time": "2024-09-23T21:20:39.188Z"
   },
   {
    "duration": 151,
    "start_time": "2024-09-23T21:20:39.236Z"
   },
   {
    "duration": 5,
    "start_time": "2024-09-23T21:20:39.389Z"
   },
   {
    "duration": 12,
    "start_time": "2024-09-23T21:20:39.397Z"
   },
   {
    "duration": 10,
    "start_time": "2024-09-23T21:20:39.424Z"
   },
   {
    "duration": 4,
    "start_time": "2024-09-23T21:20:39.436Z"
   },
   {
    "duration": 8,
    "start_time": "2024-09-23T21:20:39.442Z"
   },
   {
    "duration": 10,
    "start_time": "2024-09-23T21:20:39.452Z"
   },
   {
    "duration": 11,
    "start_time": "2024-09-23T21:20:39.463Z"
   },
   {
    "duration": 8,
    "start_time": "2024-09-23T21:20:39.476Z"
   },
   {
    "duration": 11,
    "start_time": "2024-09-23T21:20:39.524Z"
   },
   {
    "duration": 7,
    "start_time": "2024-09-23T21:20:39.536Z"
   },
   {
    "duration": 131,
    "start_time": "2024-09-23T21:20:39.545Z"
   },
   {
    "duration": 5,
    "start_time": "2024-09-23T21:20:39.678Z"
   },
   {
    "duration": 13,
    "start_time": "2024-09-23T21:20:39.685Z"
   },
   {
    "duration": 30,
    "start_time": "2024-09-23T21:20:39.700Z"
   },
   {
    "duration": 16,
    "start_time": "2024-09-23T21:20:39.732Z"
   },
   {
    "duration": 112,
    "start_time": "2024-09-23T21:20:39.750Z"
   },
   {
    "duration": 6,
    "start_time": "2024-09-23T21:20:39.864Z"
   },
   {
    "duration": 3,
    "start_time": "2024-09-23T21:20:39.875Z"
   },
   {
    "duration": 9,
    "start_time": "2024-09-23T21:20:39.880Z"
   },
   {
    "duration": 7,
    "start_time": "2024-09-23T21:20:39.890Z"
   },
   {
    "duration": 5,
    "start_time": "2024-09-23T21:20:39.924Z"
   },
   {
    "duration": 11,
    "start_time": "2024-09-23T21:20:39.931Z"
   },
   {
    "duration": 14,
    "start_time": "2024-09-23T21:20:39.943Z"
   },
   {
    "duration": 7,
    "start_time": "2024-09-23T21:20:39.958Z"
   },
   {
    "duration": 8,
    "start_time": "2024-09-23T21:20:39.967Z"
   },
   {
    "duration": 10,
    "start_time": "2024-09-23T21:20:39.977Z"
   },
   {
    "duration": 5,
    "start_time": "2024-09-23T21:20:40.025Z"
   },
   {
    "duration": 9,
    "start_time": "2024-09-23T21:20:40.032Z"
   },
   {
    "duration": 188,
    "start_time": "2024-09-23T21:20:40.043Z"
   },
   {
    "duration": 253,
    "start_time": "2024-09-23T21:20:40.235Z"
   },
   {
    "duration": 235,
    "start_time": "2024-09-23T21:20:40.490Z"
   },
   {
    "duration": 0,
    "start_time": "2024-09-23T21:20:40.727Z"
   },
   {
    "duration": 0,
    "start_time": "2024-09-23T21:20:40.728Z"
   },
   {
    "duration": 0,
    "start_time": "2024-09-23T21:20:40.729Z"
   },
   {
    "duration": 0,
    "start_time": "2024-09-23T21:20:40.730Z"
   },
   {
    "duration": 1,
    "start_time": "2024-09-23T21:20:40.731Z"
   },
   {
    "duration": 0,
    "start_time": "2024-09-23T21:20:40.732Z"
   },
   {
    "duration": 0,
    "start_time": "2024-09-23T21:20:40.735Z"
   },
   {
    "duration": 0,
    "start_time": "2024-09-23T21:20:40.737Z"
   },
   {
    "duration": 0,
    "start_time": "2024-09-23T21:20:40.738Z"
   },
   {
    "duration": 0,
    "start_time": "2024-09-23T21:20:40.740Z"
   },
   {
    "duration": 0,
    "start_time": "2024-09-23T21:20:40.741Z"
   },
   {
    "duration": 0,
    "start_time": "2024-09-23T21:20:40.743Z"
   },
   {
    "duration": 0,
    "start_time": "2024-09-23T21:20:40.744Z"
   },
   {
    "duration": 0,
    "start_time": "2024-09-23T21:20:40.746Z"
   },
   {
    "duration": 0,
    "start_time": "2024-09-23T21:20:40.747Z"
   },
   {
    "duration": 0,
    "start_time": "2024-09-23T21:20:40.748Z"
   },
   {
    "duration": 0,
    "start_time": "2024-09-23T21:20:40.750Z"
   },
   {
    "duration": 0,
    "start_time": "2024-09-23T21:20:40.751Z"
   },
   {
    "duration": 0,
    "start_time": "2024-09-23T21:20:40.752Z"
   },
   {
    "duration": 0,
    "start_time": "2024-09-23T21:20:40.754Z"
   },
   {
    "duration": 0,
    "start_time": "2024-09-23T21:20:40.755Z"
   },
   {
    "duration": 1,
    "start_time": "2024-09-23T21:20:40.757Z"
   },
   {
    "duration": 0,
    "start_time": "2024-09-23T21:20:40.759Z"
   },
   {
    "duration": 0,
    "start_time": "2024-09-23T21:20:40.761Z"
   },
   {
    "duration": 0,
    "start_time": "2024-09-23T21:20:40.762Z"
   },
   {
    "duration": 0,
    "start_time": "2024-09-23T21:20:40.764Z"
   },
   {
    "duration": 0,
    "start_time": "2024-09-23T21:20:40.765Z"
   },
   {
    "duration": 0,
    "start_time": "2024-09-23T21:20:40.767Z"
   },
   {
    "duration": 0,
    "start_time": "2024-09-23T21:20:40.768Z"
   },
   {
    "duration": 0,
    "start_time": "2024-09-23T21:20:40.824Z"
   },
   {
    "duration": 16,
    "start_time": "2024-09-23T21:28:48.963Z"
   },
   {
    "duration": 10,
    "start_time": "2024-09-23T21:29:01.684Z"
   },
   {
    "duration": 5,
    "start_time": "2024-09-23T21:30:25.047Z"
   },
   {
    "duration": 744,
    "start_time": "2024-09-23T21:31:17.122Z"
   },
   {
    "duration": 34,
    "start_time": "2024-09-23T21:31:17.870Z"
   },
   {
    "duration": 30,
    "start_time": "2024-09-23T21:31:17.906Z"
   },
   {
    "duration": 15,
    "start_time": "2024-09-23T21:31:17.939Z"
   },
   {
    "duration": 16,
    "start_time": "2024-09-23T21:31:17.957Z"
   },
   {
    "duration": 13,
    "start_time": "2024-09-23T21:31:17.974Z"
   },
   {
    "duration": 3,
    "start_time": "2024-09-23T21:31:17.989Z"
   },
   {
    "duration": 38,
    "start_time": "2024-09-23T21:31:17.994Z"
   },
   {
    "duration": 9,
    "start_time": "2024-09-23T21:31:18.034Z"
   },
   {
    "duration": 176,
    "start_time": "2024-09-23T21:31:18.046Z"
   },
   {
    "duration": 5,
    "start_time": "2024-09-23T21:31:18.223Z"
   },
   {
    "duration": 16,
    "start_time": "2024-09-23T21:31:18.229Z"
   },
   {
    "duration": 9,
    "start_time": "2024-09-23T21:31:18.247Z"
   },
   {
    "duration": 4,
    "start_time": "2024-09-23T21:31:18.258Z"
   },
   {
    "duration": 8,
    "start_time": "2024-09-23T21:31:18.265Z"
   },
   {
    "duration": 9,
    "start_time": "2024-09-23T21:31:18.275Z"
   },
   {
    "duration": 42,
    "start_time": "2024-09-23T21:31:18.286Z"
   },
   {
    "duration": 10,
    "start_time": "2024-09-23T21:31:18.330Z"
   },
   {
    "duration": 10,
    "start_time": "2024-09-23T21:31:18.342Z"
   },
   {
    "duration": 15,
    "start_time": "2024-09-23T21:31:18.354Z"
   },
   {
    "duration": 186,
    "start_time": "2024-09-23T21:31:18.371Z"
   },
   {
    "duration": 5,
    "start_time": "2024-09-23T21:31:18.559Z"
   },
   {
    "duration": 12,
    "start_time": "2024-09-23T21:31:18.566Z"
   },
   {
    "duration": 9,
    "start_time": "2024-09-23T21:31:18.580Z"
   },
   {
    "duration": 33,
    "start_time": "2024-09-23T21:31:18.591Z"
   },
   {
    "duration": 108,
    "start_time": "2024-09-23T21:31:18.626Z"
   },
   {
    "duration": 4,
    "start_time": "2024-09-23T21:31:18.737Z"
   },
   {
    "duration": 5,
    "start_time": "2024-09-23T21:31:18.748Z"
   },
   {
    "duration": 11,
    "start_time": "2024-09-23T21:31:18.755Z"
   },
   {
    "duration": 8,
    "start_time": "2024-09-23T21:31:18.768Z"
   },
   {
    "duration": 4,
    "start_time": "2024-09-23T21:31:18.777Z"
   },
   {
    "duration": 46,
    "start_time": "2024-09-23T21:31:18.783Z"
   },
   {
    "duration": 12,
    "start_time": "2024-09-23T21:31:18.831Z"
   },
   {
    "duration": 8,
    "start_time": "2024-09-23T21:31:18.845Z"
   },
   {
    "duration": 8,
    "start_time": "2024-09-23T21:31:18.854Z"
   },
   {
    "duration": 11,
    "start_time": "2024-09-23T21:31:18.864Z"
   },
   {
    "duration": 5,
    "start_time": "2024-09-23T21:31:18.877Z"
   },
   {
    "duration": 47,
    "start_time": "2024-09-23T21:31:18.884Z"
   },
   {
    "duration": 174,
    "start_time": "2024-09-23T21:31:18.934Z"
   },
   {
    "duration": 239,
    "start_time": "2024-09-23T21:31:19.110Z"
   },
   {
    "duration": 308,
    "start_time": "2024-09-23T21:31:19.350Z"
   },
   {
    "duration": 0,
    "start_time": "2024-09-23T21:31:19.660Z"
   },
   {
    "duration": 0,
    "start_time": "2024-09-23T21:31:19.662Z"
   },
   {
    "duration": 0,
    "start_time": "2024-09-23T21:31:19.663Z"
   },
   {
    "duration": 0,
    "start_time": "2024-09-23T21:31:19.664Z"
   },
   {
    "duration": 0,
    "start_time": "2024-09-23T21:31:19.665Z"
   },
   {
    "duration": 0,
    "start_time": "2024-09-23T21:31:19.666Z"
   },
   {
    "duration": 0,
    "start_time": "2024-09-23T21:31:19.668Z"
   },
   {
    "duration": 0,
    "start_time": "2024-09-23T21:31:19.669Z"
   },
   {
    "duration": 0,
    "start_time": "2024-09-23T21:31:19.670Z"
   },
   {
    "duration": 0,
    "start_time": "2024-09-23T21:31:19.671Z"
   },
   {
    "duration": 0,
    "start_time": "2024-09-23T21:31:19.673Z"
   },
   {
    "duration": 0,
    "start_time": "2024-09-23T21:31:19.674Z"
   },
   {
    "duration": 0,
    "start_time": "2024-09-23T21:31:19.675Z"
   },
   {
    "duration": 0,
    "start_time": "2024-09-23T21:31:19.679Z"
   },
   {
    "duration": 0,
    "start_time": "2024-09-23T21:31:19.680Z"
   },
   {
    "duration": 0,
    "start_time": "2024-09-23T21:31:19.681Z"
   },
   {
    "duration": 0,
    "start_time": "2024-09-23T21:31:19.683Z"
   },
   {
    "duration": 0,
    "start_time": "2024-09-23T21:31:19.684Z"
   },
   {
    "duration": 0,
    "start_time": "2024-09-23T21:31:19.685Z"
   },
   {
    "duration": 0,
    "start_time": "2024-09-23T21:31:19.724Z"
   },
   {
    "duration": 0,
    "start_time": "2024-09-23T21:31:19.725Z"
   },
   {
    "duration": 0,
    "start_time": "2024-09-23T21:31:19.727Z"
   },
   {
    "duration": 0,
    "start_time": "2024-09-23T21:31:19.728Z"
   },
   {
    "duration": 0,
    "start_time": "2024-09-23T21:31:19.729Z"
   },
   {
    "duration": 0,
    "start_time": "2024-09-23T21:31:19.731Z"
   },
   {
    "duration": 0,
    "start_time": "2024-09-23T21:31:19.732Z"
   },
   {
    "duration": 0,
    "start_time": "2024-09-23T21:31:19.733Z"
   },
   {
    "duration": 0,
    "start_time": "2024-09-23T21:31:19.735Z"
   },
   {
    "duration": 0,
    "start_time": "2024-09-23T21:31:19.736Z"
   },
   {
    "duration": 0,
    "start_time": "2024-09-23T21:31:19.738Z"
   },
   {
    "duration": 14,
    "start_time": "2024-09-23T21:32:01.452Z"
   },
   {
    "duration": 8,
    "start_time": "2024-09-23T21:32:04.309Z"
   },
   {
    "duration": 725,
    "start_time": "2024-09-23T21:32:10.331Z"
   },
   {
    "duration": 23,
    "start_time": "2024-09-23T21:32:11.058Z"
   },
   {
    "duration": 18,
    "start_time": "2024-09-23T21:32:11.083Z"
   },
   {
    "duration": 24,
    "start_time": "2024-09-23T21:32:11.104Z"
   },
   {
    "duration": 13,
    "start_time": "2024-09-23T21:32:11.131Z"
   },
   {
    "duration": 9,
    "start_time": "2024-09-23T21:32:11.149Z"
   },
   {
    "duration": 5,
    "start_time": "2024-09-23T21:32:11.160Z"
   },
   {
    "duration": 10,
    "start_time": "2024-09-23T21:32:11.166Z"
   },
   {
    "duration": 11,
    "start_time": "2024-09-23T21:32:11.178Z"
   },
   {
    "duration": 158,
    "start_time": "2024-09-23T21:32:11.191Z"
   },
   {
    "duration": 5,
    "start_time": "2024-09-23T21:32:11.351Z"
   },
   {
    "duration": 15,
    "start_time": "2024-09-23T21:32:11.358Z"
   },
   {
    "duration": 11,
    "start_time": "2024-09-23T21:32:11.375Z"
   },
   {
    "duration": 4,
    "start_time": "2024-09-23T21:32:11.390Z"
   },
   {
    "duration": 36,
    "start_time": "2024-09-23T21:32:11.396Z"
   },
   {
    "duration": 10,
    "start_time": "2024-09-23T21:32:11.434Z"
   },
   {
    "duration": 10,
    "start_time": "2024-09-23T21:32:11.446Z"
   },
   {
    "duration": 11,
    "start_time": "2024-09-23T21:32:11.458Z"
   },
   {
    "duration": 11,
    "start_time": "2024-09-23T21:32:11.471Z"
   },
   {
    "duration": 40,
    "start_time": "2024-09-23T21:32:11.484Z"
   },
   {
    "duration": 132,
    "start_time": "2024-09-23T21:32:11.527Z"
   },
   {
    "duration": 5,
    "start_time": "2024-09-23T21:32:11.662Z"
   },
   {
    "duration": 13,
    "start_time": "2024-09-23T21:32:11.670Z"
   },
   {
    "duration": 11,
    "start_time": "2024-09-23T21:32:11.685Z"
   },
   {
    "duration": 34,
    "start_time": "2024-09-23T21:32:11.698Z"
   },
   {
    "duration": 124,
    "start_time": "2024-09-23T21:32:11.734Z"
   },
   {
    "duration": 7,
    "start_time": "2024-09-23T21:32:11.860Z"
   },
   {
    "duration": 5,
    "start_time": "2024-09-23T21:32:11.871Z"
   },
   {
    "duration": 12,
    "start_time": "2024-09-23T21:32:11.878Z"
   },
   {
    "duration": 8,
    "start_time": "2024-09-23T21:32:11.892Z"
   },
   {
    "duration": 4,
    "start_time": "2024-09-23T21:32:11.924Z"
   },
   {
    "duration": 10,
    "start_time": "2024-09-23T21:32:11.931Z"
   },
   {
    "duration": 14,
    "start_time": "2024-09-23T21:32:11.942Z"
   },
   {
    "duration": 8,
    "start_time": "2024-09-23T21:32:11.958Z"
   },
   {
    "duration": 9,
    "start_time": "2024-09-23T21:32:11.967Z"
   },
   {
    "duration": 45,
    "start_time": "2024-09-23T21:32:11.979Z"
   },
   {
    "duration": 5,
    "start_time": "2024-09-23T21:32:12.026Z"
   },
   {
    "duration": 8,
    "start_time": "2024-09-23T21:32:12.033Z"
   },
   {
    "duration": 227,
    "start_time": "2024-09-23T21:32:12.043Z"
   },
   {
    "duration": 254,
    "start_time": "2024-09-23T21:32:12.271Z"
   },
   {
    "duration": 8,
    "start_time": "2024-09-23T21:32:12.532Z"
   },
   {
    "duration": 11,
    "start_time": "2024-09-23T21:32:12.542Z"
   },
   {
    "duration": 3,
    "start_time": "2024-09-23T21:32:12.555Z"
   },
   {
    "duration": 8,
    "start_time": "2024-09-23T21:32:12.560Z"
   },
   {
    "duration": 8,
    "start_time": "2024-09-23T21:32:12.570Z"
   },
   {
    "duration": 224,
    "start_time": "2024-09-23T21:32:12.579Z"
   },
   {
    "duration": 116,
    "start_time": "2024-09-23T21:32:12.804Z"
   },
   {
    "duration": 101,
    "start_time": "2024-09-23T21:32:12.924Z"
   },
   {
    "duration": 116,
    "start_time": "2024-09-23T21:32:13.028Z"
   },
   {
    "duration": 8,
    "start_time": "2024-09-23T21:32:13.146Z"
   },
   {
    "duration": 11,
    "start_time": "2024-09-23T21:32:13.156Z"
   },
   {
    "duration": 7,
    "start_time": "2024-09-23T21:32:13.168Z"
   },
   {
    "duration": 7,
    "start_time": "2024-09-23T21:32:13.176Z"
   },
   {
    "duration": 40,
    "start_time": "2024-09-23T21:32:13.184Z"
   },
   {
    "duration": 6,
    "start_time": "2024-09-23T21:32:13.226Z"
   },
   {
    "duration": 6,
    "start_time": "2024-09-23T21:32:13.234Z"
   },
   {
    "duration": 6,
    "start_time": "2024-09-23T21:32:13.242Z"
   },
   {
    "duration": 5,
    "start_time": "2024-09-23T21:32:13.249Z"
   },
   {
    "duration": 5,
    "start_time": "2024-09-23T21:32:13.256Z"
   },
   {
    "duration": 11,
    "start_time": "2024-09-23T21:32:13.262Z"
   },
   {
    "duration": 50,
    "start_time": "2024-09-23T21:32:13.274Z"
   },
   {
    "duration": 10,
    "start_time": "2024-09-23T21:32:13.326Z"
   },
   {
    "duration": 6,
    "start_time": "2024-09-23T21:32:13.337Z"
   },
   {
    "duration": 6,
    "start_time": "2024-09-23T21:32:13.344Z"
   },
   {
    "duration": 3,
    "start_time": "2024-09-23T21:32:13.352Z"
   },
   {
    "duration": 6,
    "start_time": "2024-09-23T21:32:13.357Z"
   },
   {
    "duration": 3,
    "start_time": "2024-09-23T21:32:13.365Z"
   },
   {
    "duration": 4,
    "start_time": "2024-09-23T21:32:13.370Z"
   },
   {
    "duration": 5,
    "start_time": "2024-09-23T21:32:13.376Z"
   },
   {
    "duration": 43,
    "start_time": "2024-09-23T21:32:13.383Z"
   },
   {
    "duration": 2439,
    "start_time": "2024-09-24T04:20:09.876Z"
   },
   {
    "duration": 40,
    "start_time": "2024-09-24T04:20:12.317Z"
   },
   {
    "duration": 17,
    "start_time": "2024-09-24T04:20:12.359Z"
   },
   {
    "duration": 12,
    "start_time": "2024-09-24T04:20:12.378Z"
   },
   {
    "duration": 13,
    "start_time": "2024-09-24T04:20:12.391Z"
   },
   {
    "duration": 11,
    "start_time": "2024-09-24T04:20:12.405Z"
   },
   {
    "duration": 4,
    "start_time": "2024-09-24T04:20:12.443Z"
   },
   {
    "duration": 7,
    "start_time": "2024-09-24T04:20:12.449Z"
   },
   {
    "duration": 9,
    "start_time": "2024-09-24T04:20:12.457Z"
   },
   {
    "duration": 150,
    "start_time": "2024-09-24T04:20:12.470Z"
   },
   {
    "duration": 4,
    "start_time": "2024-09-24T04:20:12.621Z"
   },
   {
    "duration": 23,
    "start_time": "2024-09-24T04:20:12.627Z"
   },
   {
    "duration": 9,
    "start_time": "2024-09-24T04:20:12.652Z"
   },
   {
    "duration": 3,
    "start_time": "2024-09-24T04:20:12.663Z"
   },
   {
    "duration": 8,
    "start_time": "2024-09-24T04:20:12.668Z"
   },
   {
    "duration": 7,
    "start_time": "2024-09-24T04:20:12.678Z"
   },
   {
    "duration": 8,
    "start_time": "2024-09-24T04:20:12.687Z"
   },
   {
    "duration": 7,
    "start_time": "2024-09-24T04:20:12.697Z"
   },
   {
    "duration": 46,
    "start_time": "2024-09-24T04:20:12.705Z"
   },
   {
    "duration": 6,
    "start_time": "2024-09-24T04:20:12.752Z"
   },
   {
    "duration": 127,
    "start_time": "2024-09-24T04:20:12.760Z"
   },
   {
    "duration": 4,
    "start_time": "2024-09-24T04:20:12.889Z"
   },
   {
    "duration": 13,
    "start_time": "2024-09-24T04:20:12.894Z"
   },
   {
    "duration": 8,
    "start_time": "2024-09-24T04:20:12.908Z"
   },
   {
    "duration": 34,
    "start_time": "2024-09-24T04:20:12.917Z"
   },
   {
    "duration": 118,
    "start_time": "2024-09-24T04:20:12.953Z"
   },
   {
    "duration": 4,
    "start_time": "2024-09-24T04:20:13.073Z"
   },
   {
    "duration": 3,
    "start_time": "2024-09-24T04:20:13.083Z"
   },
   {
    "duration": 9,
    "start_time": "2024-09-24T04:20:13.088Z"
   },
   {
    "duration": 6,
    "start_time": "2024-09-24T04:20:13.099Z"
   },
   {
    "duration": 5,
    "start_time": "2024-09-24T04:20:13.107Z"
   },
   {
    "duration": 12,
    "start_time": "2024-09-24T04:20:13.143Z"
   },
   {
    "duration": 11,
    "start_time": "2024-09-24T04:20:13.157Z"
   },
   {
    "duration": 7,
    "start_time": "2024-09-24T04:20:13.170Z"
   },
   {
    "duration": 7,
    "start_time": "2024-09-24T04:20:13.178Z"
   },
   {
    "duration": 9,
    "start_time": "2024-09-24T04:20:13.186Z"
   },
   {
    "duration": 4,
    "start_time": "2024-09-24T04:20:13.197Z"
   },
   {
    "duration": 45,
    "start_time": "2024-09-24T04:20:13.203Z"
   },
   {
    "duration": 169,
    "start_time": "2024-09-24T04:20:13.250Z"
   },
   {
    "duration": 191,
    "start_time": "2024-09-24T04:20:13.421Z"
   },
   {
    "duration": 7,
    "start_time": "2024-09-24T04:20:13.613Z"
   },
   {
    "duration": 11,
    "start_time": "2024-09-24T04:20:13.621Z"
   },
   {
    "duration": 11,
    "start_time": "2024-09-24T04:20:13.633Z"
   },
   {
    "duration": 8,
    "start_time": "2024-09-24T04:20:13.645Z"
   },
   {
    "duration": 7,
    "start_time": "2024-09-24T04:20:13.655Z"
   },
   {
    "duration": 206,
    "start_time": "2024-09-24T04:20:13.665Z"
   },
   {
    "duration": 168,
    "start_time": "2024-09-24T04:20:13.872Z"
   },
   {
    "duration": 101,
    "start_time": "2024-09-24T04:20:14.043Z"
   },
   {
    "duration": 110,
    "start_time": "2024-09-24T04:20:14.146Z"
   },
   {
    "duration": 7,
    "start_time": "2024-09-24T04:20:14.258Z"
   },
   {
    "duration": 9,
    "start_time": "2024-09-24T04:20:14.267Z"
   },
   {
    "duration": 6,
    "start_time": "2024-09-24T04:20:14.277Z"
   },
   {
    "duration": 6,
    "start_time": "2024-09-24T04:20:14.285Z"
   },
   {
    "duration": 6,
    "start_time": "2024-09-24T04:20:14.293Z"
   },
   {
    "duration": 7,
    "start_time": "2024-09-24T04:20:14.300Z"
   },
   {
    "duration": 7,
    "start_time": "2024-09-24T04:20:14.343Z"
   },
   {
    "duration": 6,
    "start_time": "2024-09-24T04:20:14.352Z"
   },
   {
    "duration": 4,
    "start_time": "2024-09-24T04:20:14.359Z"
   },
   {
    "duration": 5,
    "start_time": "2024-09-24T04:20:14.364Z"
   },
   {
    "duration": 8,
    "start_time": "2024-09-24T04:20:14.370Z"
   },
   {
    "duration": 10,
    "start_time": "2024-09-24T04:20:14.380Z"
   },
   {
    "duration": 54,
    "start_time": "2024-09-24T04:20:14.392Z"
   },
   {
    "duration": 3,
    "start_time": "2024-09-24T04:20:14.448Z"
   },
   {
    "duration": 5,
    "start_time": "2024-09-24T04:20:14.453Z"
   },
   {
    "duration": 3,
    "start_time": "2024-09-24T04:20:14.460Z"
   },
   {
    "duration": 3,
    "start_time": "2024-09-24T04:20:14.465Z"
   },
   {
    "duration": 4,
    "start_time": "2024-09-24T04:20:14.470Z"
   },
   {
    "duration": 4,
    "start_time": "2024-09-24T04:20:14.476Z"
   },
   {
    "duration": 6,
    "start_time": "2024-09-24T04:20:14.482Z"
   },
   {
    "duration": 4,
    "start_time": "2024-09-24T04:20:14.489Z"
   },
   {
    "duration": 2435,
    "start_time": "2024-09-25T08:06:02.270Z"
   },
   {
    "duration": 42,
    "start_time": "2024-09-25T08:06:04.707Z"
   },
   {
    "duration": 18,
    "start_time": "2024-09-25T08:06:04.751Z"
   },
   {
    "duration": 11,
    "start_time": "2024-09-25T08:06:04.770Z"
   },
   {
    "duration": 10,
    "start_time": "2024-09-25T08:06:04.783Z"
   },
   {
    "duration": 8,
    "start_time": "2024-09-25T08:06:04.795Z"
   },
   {
    "duration": 26,
    "start_time": "2024-09-25T08:06:04.804Z"
   },
   {
    "duration": 5,
    "start_time": "2024-09-25T08:06:04.833Z"
   },
   {
    "duration": 6,
    "start_time": "2024-09-25T08:06:04.840Z"
   },
   {
    "duration": 7,
    "start_time": "2024-09-25T08:06:04.847Z"
   },
   {
    "duration": 5,
    "start_time": "2024-09-25T08:06:04.855Z"
   },
   {
    "duration": 11,
    "start_time": "2024-09-25T08:06:04.862Z"
   },
   {
    "duration": 7,
    "start_time": "2024-09-25T08:06:04.874Z"
   },
   {
    "duration": 43,
    "start_time": "2024-09-25T08:06:04.885Z"
   },
   {
    "duration": 7,
    "start_time": "2024-09-25T08:06:04.929Z"
   },
   {
    "duration": 7,
    "start_time": "2024-09-25T08:06:04.937Z"
   },
   {
    "duration": 6,
    "start_time": "2024-09-25T08:06:04.945Z"
   },
   {
    "duration": 7,
    "start_time": "2024-09-25T08:06:04.952Z"
   },
   {
    "duration": 6,
    "start_time": "2024-09-25T08:06:04.960Z"
   },
   {
    "duration": 7,
    "start_time": "2024-09-25T08:06:04.968Z"
   },
   {
    "duration": 52,
    "start_time": "2024-09-25T08:06:04.976Z"
   },
   {
    "duration": 11,
    "start_time": "2024-09-25T08:06:05.030Z"
   },
   {
    "duration": 7,
    "start_time": "2024-09-25T08:06:05.043Z"
   },
   {
    "duration": 7,
    "start_time": "2024-09-25T08:06:05.052Z"
   },
   {
    "duration": 4,
    "start_time": "2024-09-25T08:06:05.060Z"
   },
   {
    "duration": 10,
    "start_time": "2024-09-25T08:06:05.065Z"
   },
   {
    "duration": 10,
    "start_time": "2024-09-25T08:06:05.077Z"
   },
   {
    "duration": 38,
    "start_time": "2024-09-25T08:06:05.088Z"
   },
   {
    "duration": 3,
    "start_time": "2024-09-25T08:06:05.128Z"
   },
   {
    "duration": 240,
    "start_time": "2024-09-25T08:06:05.132Z"
   },
   {
    "duration": 0,
    "start_time": "2024-09-25T08:06:05.375Z"
   },
   {
    "duration": 0,
    "start_time": "2024-09-25T08:06:05.376Z"
   },
   {
    "duration": 0,
    "start_time": "2024-09-25T08:06:05.377Z"
   },
   {
    "duration": 0,
    "start_time": "2024-09-25T08:06:05.378Z"
   },
   {
    "duration": 0,
    "start_time": "2024-09-25T08:06:05.379Z"
   },
   {
    "duration": 0,
    "start_time": "2024-09-25T08:06:05.380Z"
   },
   {
    "duration": 0,
    "start_time": "2024-09-25T08:06:05.381Z"
   },
   {
    "duration": 0,
    "start_time": "2024-09-25T08:06:05.383Z"
   },
   {
    "duration": 0,
    "start_time": "2024-09-25T08:06:05.384Z"
   },
   {
    "duration": 0,
    "start_time": "2024-09-25T08:06:05.386Z"
   },
   {
    "duration": 0,
    "start_time": "2024-09-25T08:06:05.389Z"
   },
   {
    "duration": 0,
    "start_time": "2024-09-25T08:06:05.390Z"
   },
   {
    "duration": 0,
    "start_time": "2024-09-25T08:06:05.392Z"
   },
   {
    "duration": 0,
    "start_time": "2024-09-25T08:06:05.393Z"
   },
   {
    "duration": 0,
    "start_time": "2024-09-25T08:06:05.423Z"
   },
   {
    "duration": 0,
    "start_time": "2024-09-25T08:06:05.424Z"
   },
   {
    "duration": 0,
    "start_time": "2024-09-25T08:06:05.425Z"
   },
   {
    "duration": 0,
    "start_time": "2024-09-25T08:06:05.426Z"
   },
   {
    "duration": 0,
    "start_time": "2024-09-25T08:06:05.427Z"
   },
   {
    "duration": 0,
    "start_time": "2024-09-25T08:06:05.428Z"
   },
   {
    "duration": 0,
    "start_time": "2024-09-25T08:06:05.430Z"
   },
   {
    "duration": 0,
    "start_time": "2024-09-25T08:06:05.431Z"
   },
   {
    "duration": 0,
    "start_time": "2024-09-25T08:06:05.432Z"
   },
   {
    "duration": 0,
    "start_time": "2024-09-25T08:06:05.433Z"
   },
   {
    "duration": 0,
    "start_time": "2024-09-25T08:06:05.433Z"
   },
   {
    "duration": 0,
    "start_time": "2024-09-25T08:06:05.434Z"
   },
   {
    "duration": 0,
    "start_time": "2024-09-25T08:06:05.436Z"
   },
   {
    "duration": 0,
    "start_time": "2024-09-25T08:06:05.437Z"
   },
   {
    "duration": 0,
    "start_time": "2024-09-25T08:06:05.438Z"
   },
   {
    "duration": 0,
    "start_time": "2024-09-25T08:06:05.443Z"
   },
   {
    "duration": 0,
    "start_time": "2024-09-25T08:06:05.445Z"
   },
   {
    "duration": 0,
    "start_time": "2024-09-25T08:06:05.446Z"
   },
   {
    "duration": 1,
    "start_time": "2024-09-25T08:06:05.447Z"
   },
   {
    "duration": 0,
    "start_time": "2024-09-25T08:06:05.448Z"
   },
   {
    "duration": 0,
    "start_time": "2024-09-25T08:06:05.450Z"
   },
   {
    "duration": 0,
    "start_time": "2024-09-25T08:06:05.451Z"
   },
   {
    "duration": 0,
    "start_time": "2024-09-25T08:06:05.452Z"
   },
   {
    "duration": 0,
    "start_time": "2024-09-25T08:06:05.455Z"
   },
   {
    "duration": 0,
    "start_time": "2024-09-25T08:06:05.456Z"
   },
   {
    "duration": 0,
    "start_time": "2024-09-25T08:06:05.458Z"
   },
   {
    "duration": 0,
    "start_time": "2024-09-25T08:06:05.460Z"
   },
   {
    "duration": 0,
    "start_time": "2024-09-25T08:06:05.461Z"
   },
   {
    "duration": 0,
    "start_time": "2024-09-25T08:06:05.462Z"
   },
   {
    "duration": 0,
    "start_time": "2024-09-25T08:06:05.523Z"
   },
   {
    "duration": 2401,
    "start_time": "2024-09-25T11:27:16.274Z"
   },
   {
    "duration": 41,
    "start_time": "2024-09-25T11:27:18.677Z"
   },
   {
    "duration": 17,
    "start_time": "2024-09-25T11:27:18.720Z"
   },
   {
    "duration": 11,
    "start_time": "2024-09-25T11:27:18.739Z"
   },
   {
    "duration": 11,
    "start_time": "2024-09-25T11:27:18.751Z"
   },
   {
    "duration": 8,
    "start_time": "2024-09-25T11:27:18.763Z"
   },
   {
    "duration": 39,
    "start_time": "2024-09-25T11:27:18.772Z"
   },
   {
    "duration": 8,
    "start_time": "2024-09-25T11:27:18.813Z"
   },
   {
    "duration": 7,
    "start_time": "2024-09-25T11:27:18.822Z"
   },
   {
    "duration": 7,
    "start_time": "2024-09-25T11:27:18.833Z"
   },
   {
    "duration": 6,
    "start_time": "2024-09-25T11:27:18.841Z"
   },
   {
    "duration": 11,
    "start_time": "2024-09-25T11:27:18.848Z"
   },
   {
    "duration": 6,
    "start_time": "2024-09-25T11:27:18.861Z"
   },
   {
    "duration": 5,
    "start_time": "2024-09-25T11:27:18.905Z"
   },
   {
    "duration": 6,
    "start_time": "2024-09-25T11:27:18.912Z"
   },
   {
    "duration": 6,
    "start_time": "2024-09-25T11:27:18.920Z"
   },
   {
    "duration": 7,
    "start_time": "2024-09-25T11:27:18.927Z"
   },
   {
    "duration": 6,
    "start_time": "2024-09-25T11:27:18.936Z"
   },
   {
    "duration": 6,
    "start_time": "2024-09-25T11:27:18.944Z"
   },
   {
    "duration": 8,
    "start_time": "2024-09-25T11:27:18.951Z"
   },
   {
    "duration": 46,
    "start_time": "2024-09-25T11:27:18.961Z"
   },
   {
    "duration": 10,
    "start_time": "2024-09-25T11:27:19.009Z"
   },
   {
    "duration": 7,
    "start_time": "2024-09-25T11:27:19.021Z"
   },
   {
    "duration": 6,
    "start_time": "2024-09-25T11:27:19.030Z"
   },
   {
    "duration": 4,
    "start_time": "2024-09-25T11:27:19.038Z"
   },
   {
    "duration": 10,
    "start_time": "2024-09-25T11:27:19.043Z"
   },
   {
    "duration": 10,
    "start_time": "2024-09-25T11:27:19.055Z"
   },
   {
    "duration": 6,
    "start_time": "2024-09-25T11:27:19.106Z"
   },
   {
    "duration": 4,
    "start_time": "2024-09-25T11:27:19.114Z"
   },
   {
    "duration": 231,
    "start_time": "2024-09-25T11:27:19.120Z"
   },
   {
    "duration": 0,
    "start_time": "2024-09-25T11:27:19.353Z"
   },
   {
    "duration": 0,
    "start_time": "2024-09-25T11:27:19.354Z"
   },
   {
    "duration": 0,
    "start_time": "2024-09-25T11:27:19.355Z"
   },
   {
    "duration": 0,
    "start_time": "2024-09-25T11:27:19.357Z"
   },
   {
    "duration": 0,
    "start_time": "2024-09-25T11:27:19.358Z"
   },
   {
    "duration": 0,
    "start_time": "2024-09-25T11:27:19.359Z"
   },
   {
    "duration": 0,
    "start_time": "2024-09-25T11:27:19.360Z"
   },
   {
    "duration": 0,
    "start_time": "2024-09-25T11:27:19.362Z"
   },
   {
    "duration": 0,
    "start_time": "2024-09-25T11:27:19.363Z"
   },
   {
    "duration": 0,
    "start_time": "2024-09-25T11:27:19.364Z"
   },
   {
    "duration": 0,
    "start_time": "2024-09-25T11:27:19.365Z"
   },
   {
    "duration": 0,
    "start_time": "2024-09-25T11:27:19.366Z"
   },
   {
    "duration": 0,
    "start_time": "2024-09-25T11:27:19.367Z"
   },
   {
    "duration": 0,
    "start_time": "2024-09-25T11:27:19.368Z"
   },
   {
    "duration": 0,
    "start_time": "2024-09-25T11:27:19.370Z"
   },
   {
    "duration": 0,
    "start_time": "2024-09-25T11:27:19.371Z"
   },
   {
    "duration": 0,
    "start_time": "2024-09-25T11:27:19.372Z"
   },
   {
    "duration": 0,
    "start_time": "2024-09-25T11:27:19.373Z"
   },
   {
    "duration": 0,
    "start_time": "2024-09-25T11:27:19.374Z"
   },
   {
    "duration": 0,
    "start_time": "2024-09-25T11:27:19.405Z"
   },
   {
    "duration": 0,
    "start_time": "2024-09-25T11:27:19.406Z"
   },
   {
    "duration": 0,
    "start_time": "2024-09-25T11:27:19.407Z"
   },
   {
    "duration": 1,
    "start_time": "2024-09-25T11:27:19.408Z"
   },
   {
    "duration": 0,
    "start_time": "2024-09-25T11:27:19.410Z"
   },
   {
    "duration": 0,
    "start_time": "2024-09-25T11:27:19.412Z"
   },
   {
    "duration": 0,
    "start_time": "2024-09-25T11:27:19.414Z"
   },
   {
    "duration": 0,
    "start_time": "2024-09-25T11:27:19.414Z"
   },
   {
    "duration": 0,
    "start_time": "2024-09-25T11:27:19.416Z"
   },
   {
    "duration": 0,
    "start_time": "2024-09-25T11:27:19.417Z"
   },
   {
    "duration": 0,
    "start_time": "2024-09-25T11:27:19.419Z"
   },
   {
    "duration": 0,
    "start_time": "2024-09-25T11:27:19.420Z"
   },
   {
    "duration": 0,
    "start_time": "2024-09-25T11:27:19.422Z"
   },
   {
    "duration": 0,
    "start_time": "2024-09-25T11:27:19.426Z"
   },
   {
    "duration": 0,
    "start_time": "2024-09-25T11:27:19.427Z"
   },
   {
    "duration": 0,
    "start_time": "2024-09-25T11:27:19.429Z"
   },
   {
    "duration": 0,
    "start_time": "2024-09-25T11:27:19.430Z"
   },
   {
    "duration": 0,
    "start_time": "2024-09-25T11:27:19.432Z"
   },
   {
    "duration": 0,
    "start_time": "2024-09-25T11:27:19.433Z"
   },
   {
    "duration": 0,
    "start_time": "2024-09-25T11:27:19.434Z"
   },
   {
    "duration": 0,
    "start_time": "2024-09-25T11:27:19.435Z"
   },
   {
    "duration": 0,
    "start_time": "2024-09-25T11:27:19.437Z"
   },
   {
    "duration": 0,
    "start_time": "2024-09-25T11:27:19.438Z"
   },
   {
    "duration": 0,
    "start_time": "2024-09-25T11:27:19.439Z"
   },
   {
    "duration": 0,
    "start_time": "2024-09-25T11:27:19.440Z"
   },
   {
    "duration": 162,
    "start_time": "2024-09-25T11:28:54.925Z"
   },
   {
    "duration": 138,
    "start_time": "2024-09-25T11:29:03.837Z"
   },
   {
    "duration": 8,
    "start_time": "2024-09-25T11:29:08.347Z"
   },
   {
    "duration": 11,
    "start_time": "2024-09-25T11:29:11.809Z"
   },
   {
    "duration": 5,
    "start_time": "2024-09-25T11:29:15.761Z"
   },
   {
    "duration": 8,
    "start_time": "2024-09-25T11:29:18.337Z"
   },
   {
    "duration": 126,
    "start_time": "2024-09-25T11:29:22.458Z"
   },
   {
    "duration": 207,
    "start_time": "2024-09-25T11:29:25.814Z"
   },
   {
    "duration": 181,
    "start_time": "2024-09-25T11:29:28.860Z"
   },
   {
    "duration": 7,
    "start_time": "2024-09-25T11:29:37.657Z"
   },
   {
    "duration": 11,
    "start_time": "2024-09-25T11:29:41.464Z"
   },
   {
    "duration": 4,
    "start_time": "2024-09-25T11:29:48.326Z"
   },
   {
    "duration": 7,
    "start_time": "2024-09-25T11:29:49.976Z"
   },
   {
    "duration": 5,
    "start_time": "2024-09-25T11:29:53.567Z"
   },
   {
    "duration": 188,
    "start_time": "2024-09-25T11:29:55.648Z"
   },
   {
    "duration": 119,
    "start_time": "2024-09-25T11:30:03.459Z"
   },
   {
    "duration": 101,
    "start_time": "2024-09-25T11:30:19.529Z"
   },
   {
    "duration": 114,
    "start_time": "2024-09-25T11:30:22.857Z"
   },
   {
    "duration": 6,
    "start_time": "2024-09-25T11:30:25.910Z"
   },
   {
    "duration": 7,
    "start_time": "2024-09-25T11:30:29.183Z"
   },
   {
    "duration": 2514,
    "start_time": "2024-09-25T13:40:53.007Z"
   },
   {
    "duration": 43,
    "start_time": "2024-09-25T13:40:55.523Z"
   },
   {
    "duration": 19,
    "start_time": "2024-09-25T13:40:55.569Z"
   },
   {
    "duration": 13,
    "start_time": "2024-09-25T13:40:55.590Z"
   },
   {
    "duration": 11,
    "start_time": "2024-09-25T13:40:55.604Z"
   },
   {
    "duration": 8,
    "start_time": "2024-09-25T13:40:55.619Z"
   },
   {
    "duration": 11,
    "start_time": "2024-09-25T13:40:55.629Z"
   },
   {
    "duration": 5,
    "start_time": "2024-09-25T13:40:55.643Z"
   },
   {
    "duration": 7,
    "start_time": "2024-09-25T13:40:55.650Z"
   },
   {
    "duration": 8,
    "start_time": "2024-09-25T13:40:55.660Z"
   },
   {
    "duration": 7,
    "start_time": "2024-09-25T13:40:55.671Z"
   },
   {
    "duration": 14,
    "start_time": "2024-09-25T13:40:55.705Z"
   },
   {
    "duration": 8,
    "start_time": "2024-09-25T13:40:55.720Z"
   },
   {
    "duration": 7,
    "start_time": "2024-09-25T13:40:55.730Z"
   },
   {
    "duration": 10,
    "start_time": "2024-09-25T13:40:55.739Z"
   },
   {
    "duration": 9,
    "start_time": "2024-09-25T13:40:55.750Z"
   },
   {
    "duration": 7,
    "start_time": "2024-09-25T13:40:55.761Z"
   },
   {
    "duration": 35,
    "start_time": "2024-09-25T13:40:55.770Z"
   },
   {
    "duration": 7,
    "start_time": "2024-09-25T13:40:55.808Z"
   },
   {
    "duration": 8,
    "start_time": "2024-09-25T13:40:55.817Z"
   },
   {
    "duration": 6,
    "start_time": "2024-09-25T13:40:55.826Z"
   },
   {
    "duration": 11,
    "start_time": "2024-09-25T13:40:55.833Z"
   },
   {
    "duration": 7,
    "start_time": "2024-09-25T13:40:55.846Z"
   },
   {
    "duration": 6,
    "start_time": "2024-09-25T13:40:55.855Z"
   },
   {
    "duration": 4,
    "start_time": "2024-09-25T13:40:55.863Z"
   },
   {
    "duration": 10,
    "start_time": "2024-09-25T13:40:55.905Z"
   },
   {
    "duration": 12,
    "start_time": "2024-09-25T13:40:55.917Z"
   },
   {
    "duration": 7,
    "start_time": "2024-09-25T13:40:55.935Z"
   },
   {
    "duration": 3,
    "start_time": "2024-09-25T13:40:55.943Z"
   },
   {
    "duration": 207,
    "start_time": "2024-09-25T13:40:55.949Z"
   },
   {
    "duration": 140,
    "start_time": "2024-09-25T13:40:56.158Z"
   },
   {
    "duration": 8,
    "start_time": "2024-09-25T13:40:56.304Z"
   },
   {
    "duration": 13,
    "start_time": "2024-09-25T13:40:56.314Z"
   },
   {
    "duration": 5,
    "start_time": "2024-09-25T13:40:56.328Z"
   },
   {
    "duration": 12,
    "start_time": "2024-09-25T13:40:56.334Z"
   },
   {
    "duration": 158,
    "start_time": "2024-09-25T13:40:56.347Z"
   },
   {
    "duration": 152,
    "start_time": "2024-09-25T13:40:56.507Z"
   },
   {
    "duration": 205,
    "start_time": "2024-09-25T13:40:56.660Z"
   },
   {
    "duration": 7,
    "start_time": "2024-09-25T13:40:56.868Z"
   },
   {
    "duration": 10,
    "start_time": "2024-09-25T13:40:56.877Z"
   },
   {
    "duration": 5,
    "start_time": "2024-09-25T13:40:56.889Z"
   },
   {
    "duration": 14,
    "start_time": "2024-09-25T13:40:56.895Z"
   },
   {
    "duration": 4,
    "start_time": "2024-09-25T13:40:56.911Z"
   },
   {
    "duration": 4,
    "start_time": "2024-09-25T13:40:56.917Z"
   },
   {
    "duration": 279,
    "start_time": "2024-09-25T13:40:56.923Z"
   },
   {
    "duration": 0,
    "start_time": "2024-09-25T13:40:57.205Z"
   },
   {
    "duration": 0,
    "start_time": "2024-09-25T13:40:57.206Z"
   },
   {
    "duration": 0,
    "start_time": "2024-09-25T13:40:57.208Z"
   },
   {
    "duration": 0,
    "start_time": "2024-09-25T13:40:57.209Z"
   },
   {
    "duration": 0,
    "start_time": "2024-09-25T13:40:57.210Z"
   },
   {
    "duration": 0,
    "start_time": "2024-09-25T13:40:57.212Z"
   },
   {
    "duration": 0,
    "start_time": "2024-09-25T13:40:57.213Z"
   },
   {
    "duration": 0,
    "start_time": "2024-09-25T13:40:57.214Z"
   },
   {
    "duration": 0,
    "start_time": "2024-09-25T13:40:57.215Z"
   },
   {
    "duration": 0,
    "start_time": "2024-09-25T13:40:57.215Z"
   },
   {
    "duration": 0,
    "start_time": "2024-09-25T13:40:57.216Z"
   },
   {
    "duration": 0,
    "start_time": "2024-09-25T13:40:57.217Z"
   },
   {
    "duration": 0,
    "start_time": "2024-09-25T13:40:57.219Z"
   },
   {
    "duration": 0,
    "start_time": "2024-09-25T13:40:57.221Z"
   },
   {
    "duration": 0,
    "start_time": "2024-09-25T13:40:57.221Z"
   },
   {
    "duration": 0,
    "start_time": "2024-09-25T13:40:57.222Z"
   },
   {
    "duration": 0,
    "start_time": "2024-09-25T13:40:57.225Z"
   },
   {
    "duration": 0,
    "start_time": "2024-09-25T13:40:57.226Z"
   },
   {
    "duration": 0,
    "start_time": "2024-09-25T13:40:57.227Z"
   },
   {
    "duration": 0,
    "start_time": "2024-09-25T13:40:57.228Z"
   },
   {
    "duration": 0,
    "start_time": "2024-09-25T13:40:57.229Z"
   },
   {
    "duration": 0,
    "start_time": "2024-09-25T13:40:57.231Z"
   },
   {
    "duration": 0,
    "start_time": "2024-09-25T13:40:57.232Z"
   },
   {
    "duration": 0,
    "start_time": "2024-09-25T13:40:57.233Z"
   },
   {
    "duration": 0,
    "start_time": "2024-09-25T13:40:57.235Z"
   },
   {
    "duration": 0,
    "start_time": "2024-09-25T13:40:57.237Z"
   },
   {
    "duration": 0,
    "start_time": "2024-09-25T13:40:57.238Z"
   },
   {
    "duration": 0,
    "start_time": "2024-09-25T13:40:57.239Z"
   },
   {
    "duration": 0,
    "start_time": "2024-09-25T13:40:57.240Z"
   },
   {
    "duration": 2512,
    "start_time": "2024-09-25T14:14:05.980Z"
   },
   {
    "duration": 41,
    "start_time": "2024-09-25T14:14:08.494Z"
   },
   {
    "duration": 19,
    "start_time": "2024-09-25T14:14:08.536Z"
   },
   {
    "duration": 11,
    "start_time": "2024-09-25T14:14:08.557Z"
   },
   {
    "duration": 10,
    "start_time": "2024-09-25T14:14:08.570Z"
   },
   {
    "duration": 7,
    "start_time": "2024-09-25T14:14:08.582Z"
   },
   {
    "duration": 11,
    "start_time": "2024-09-25T14:14:08.591Z"
   },
   {
    "duration": 6,
    "start_time": "2024-09-25T14:14:08.624Z"
   },
   {
    "duration": 6,
    "start_time": "2024-09-25T14:14:08.632Z"
   },
   {
    "duration": 7,
    "start_time": "2024-09-25T14:14:08.642Z"
   },
   {
    "duration": 5,
    "start_time": "2024-09-25T14:14:08.650Z"
   },
   {
    "duration": 10,
    "start_time": "2024-09-25T14:14:08.657Z"
   },
   {
    "duration": 6,
    "start_time": "2024-09-25T14:14:08.669Z"
   },
   {
    "duration": 5,
    "start_time": "2024-09-25T14:14:08.677Z"
   },
   {
    "duration": 8,
    "start_time": "2024-09-25T14:14:08.723Z"
   },
   {
    "duration": 7,
    "start_time": "2024-09-25T14:14:08.732Z"
   },
   {
    "duration": 5,
    "start_time": "2024-09-25T14:14:08.741Z"
   },
   {
    "duration": 6,
    "start_time": "2024-09-25T14:14:08.749Z"
   },
   {
    "duration": 7,
    "start_time": "2024-09-25T14:14:08.756Z"
   },
   {
    "duration": 6,
    "start_time": "2024-09-25T14:14:08.765Z"
   },
   {
    "duration": 5,
    "start_time": "2024-09-25T14:14:08.773Z"
   },
   {
    "duration": 50,
    "start_time": "2024-09-25T14:14:08.780Z"
   },
   {
    "duration": 7,
    "start_time": "2024-09-25T14:14:08.831Z"
   },
   {
    "duration": 6,
    "start_time": "2024-09-25T14:14:08.840Z"
   },
   {
    "duration": 4,
    "start_time": "2024-09-25T14:14:08.847Z"
   },
   {
    "duration": 11,
    "start_time": "2024-09-25T14:14:08.852Z"
   },
   {
    "duration": 11,
    "start_time": "2024-09-25T14:14:08.864Z"
   },
   {
    "duration": 6,
    "start_time": "2024-09-25T14:14:08.879Z"
   },
   {
    "duration": 40,
    "start_time": "2024-09-25T14:14:08.887Z"
   },
   {
    "duration": 169,
    "start_time": "2024-09-25T14:14:08.929Z"
   },
   {
    "duration": 142,
    "start_time": "2024-09-25T14:14:09.100Z"
   },
   {
    "duration": 7,
    "start_time": "2024-09-25T14:14:09.244Z"
   },
   {
    "duration": 10,
    "start_time": "2024-09-25T14:14:09.252Z"
   },
   {
    "duration": 4,
    "start_time": "2024-09-25T14:14:09.263Z"
   },
   {
    "duration": 8,
    "start_time": "2024-09-25T14:14:09.268Z"
   },
   {
    "duration": 150,
    "start_time": "2024-09-25T14:14:09.278Z"
   },
   {
    "duration": 160,
    "start_time": "2024-09-25T14:14:09.430Z"
   },
   {
    "duration": 193,
    "start_time": "2024-09-25T14:14:09.592Z"
   },
   {
    "duration": 7,
    "start_time": "2024-09-25T14:14:09.786Z"
   },
   {
    "duration": 63,
    "start_time": "2024-09-25T14:14:09.795Z"
   },
   {
    "duration": 3,
    "start_time": "2024-09-25T14:14:09.860Z"
   },
   {
    "duration": 6,
    "start_time": "2024-09-25T14:14:09.865Z"
   },
   {
    "duration": 5,
    "start_time": "2024-09-25T14:14:09.873Z"
   },
   {
    "duration": 5,
    "start_time": "2024-09-25T14:14:09.879Z"
   },
   {
    "duration": 152,
    "start_time": "2024-09-25T14:14:09.887Z"
   },
   {
    "duration": 131,
    "start_time": "2024-09-25T14:14:10.041Z"
   },
   {
    "duration": 112,
    "start_time": "2024-09-25T14:14:10.174Z"
   },
   {
    "duration": 123,
    "start_time": "2024-09-25T14:14:10.288Z"
   },
   {
    "duration": 12,
    "start_time": "2024-09-25T14:14:10.413Z"
   },
   {
    "duration": 7,
    "start_time": "2024-09-25T14:14:10.426Z"
   },
   {
    "duration": 215,
    "start_time": "2024-09-25T14:14:10.434Z"
   },
   {
    "duration": 9,
    "start_time": "2024-09-25T14:14:10.651Z"
   },
   {
    "duration": 7,
    "start_time": "2024-09-25T14:14:10.661Z"
   },
   {
    "duration": 6,
    "start_time": "2024-09-25T14:14:10.671Z"
   },
   {
    "duration": 6,
    "start_time": "2024-09-25T14:14:10.678Z"
   },
   {
    "duration": 7,
    "start_time": "2024-09-25T14:14:10.686Z"
   },
   {
    "duration": 6,
    "start_time": "2024-09-25T14:14:10.724Z"
   },
   {
    "duration": 7,
    "start_time": "2024-09-25T14:14:10.732Z"
   },
   {
    "duration": 4,
    "start_time": "2024-09-25T14:14:10.740Z"
   },
   {
    "duration": 4,
    "start_time": "2024-09-25T14:14:10.745Z"
   },
   {
    "duration": 9,
    "start_time": "2024-09-25T14:14:10.750Z"
   },
   {
    "duration": 313,
    "start_time": "2024-09-25T14:14:10.760Z"
   },
   {
    "duration": 11,
    "start_time": "2024-09-25T14:14:11.075Z"
   },
   {
    "duration": 264,
    "start_time": "2024-09-25T14:14:11.088Z"
   },
   {
    "duration": 12,
    "start_time": "2024-09-25T14:14:11.354Z"
   },
   {
    "duration": 256,
    "start_time": "2024-09-25T14:14:11.368Z"
   },
   {
    "duration": 4,
    "start_time": "2024-09-25T14:14:11.628Z"
   },
   {
    "duration": 5,
    "start_time": "2024-09-25T14:14:11.633Z"
   },
   {
    "duration": 3,
    "start_time": "2024-09-25T14:14:11.640Z"
   },
   {
    "duration": 4,
    "start_time": "2024-09-25T14:14:11.645Z"
   },
   {
    "duration": 3,
    "start_time": "2024-09-25T14:14:11.651Z"
   },
   {
    "duration": 4,
    "start_time": "2024-09-25T14:14:11.655Z"
   },
   {
    "duration": 5,
    "start_time": "2024-09-25T14:14:11.661Z"
   },
   {
    "duration": 4,
    "start_time": "2024-09-25T14:14:11.667Z"
   },
   {
    "duration": 2468,
    "start_time": "2024-09-25T14:29:08.963Z"
   },
   {
    "duration": 39,
    "start_time": "2024-09-25T14:29:11.433Z"
   },
   {
    "duration": 17,
    "start_time": "2024-09-25T14:29:11.474Z"
   },
   {
    "duration": 11,
    "start_time": "2024-09-25T14:29:11.494Z"
   },
   {
    "duration": 11,
    "start_time": "2024-09-25T14:29:11.507Z"
   },
   {
    "duration": 6,
    "start_time": "2024-09-25T14:29:11.521Z"
   },
   {
    "duration": 9,
    "start_time": "2024-09-25T14:29:11.529Z"
   },
   {
    "duration": 5,
    "start_time": "2024-09-25T14:29:11.571Z"
   },
   {
    "duration": 7,
    "start_time": "2024-09-25T14:29:11.577Z"
   },
   {
    "duration": 7,
    "start_time": "2024-09-25T14:29:11.587Z"
   },
   {
    "duration": 5,
    "start_time": "2024-09-25T14:29:11.595Z"
   },
   {
    "duration": 11,
    "start_time": "2024-09-25T14:29:11.602Z"
   },
   {
    "duration": 7,
    "start_time": "2024-09-25T14:29:11.614Z"
   },
   {
    "duration": 5,
    "start_time": "2024-09-25T14:29:11.623Z"
   },
   {
    "duration": 7,
    "start_time": "2024-09-25T14:29:11.670Z"
   },
   {
    "duration": 6,
    "start_time": "2024-09-25T14:29:11.679Z"
   },
   {
    "duration": 6,
    "start_time": "2024-09-25T14:29:11.687Z"
   },
   {
    "duration": 7,
    "start_time": "2024-09-25T14:29:11.694Z"
   },
   {
    "duration": 8,
    "start_time": "2024-09-25T14:29:11.704Z"
   },
   {
    "duration": 9,
    "start_time": "2024-09-25T14:29:11.713Z"
   },
   {
    "duration": 46,
    "start_time": "2024-09-25T14:29:11.724Z"
   },
   {
    "duration": 11,
    "start_time": "2024-09-25T14:29:11.772Z"
   },
   {
    "duration": 7,
    "start_time": "2024-09-25T14:29:11.785Z"
   },
   {
    "duration": 7,
    "start_time": "2024-09-25T14:29:11.794Z"
   },
   {
    "duration": 4,
    "start_time": "2024-09-25T14:29:11.802Z"
   },
   {
    "duration": 10,
    "start_time": "2024-09-25T14:29:11.807Z"
   },
   {
    "duration": 12,
    "start_time": "2024-09-25T14:29:11.818Z"
   },
   {
    "duration": 8,
    "start_time": "2024-09-25T14:29:11.872Z"
   },
   {
    "duration": 4,
    "start_time": "2024-09-25T14:29:11.881Z"
   },
   {
    "duration": 186,
    "start_time": "2024-09-25T14:29:11.886Z"
   },
   {
    "duration": 146,
    "start_time": "2024-09-25T14:29:12.074Z"
   },
   {
    "duration": 8,
    "start_time": "2024-09-25T14:29:12.221Z"
   },
   {
    "duration": 10,
    "start_time": "2024-09-25T14:29:12.231Z"
   },
   {
    "duration": 4,
    "start_time": "2024-09-25T14:29:12.244Z"
   },
   {
    "duration": 26,
    "start_time": "2024-09-25T14:29:12.250Z"
   },
   {
    "duration": 132,
    "start_time": "2024-09-25T14:29:12.277Z"
   },
   {
    "duration": 158,
    "start_time": "2024-09-25T14:29:12.412Z"
   },
   {
    "duration": 187,
    "start_time": "2024-09-25T14:29:12.571Z"
   },
   {
    "duration": 8,
    "start_time": "2024-09-25T14:29:12.761Z"
   },
   {
    "duration": 68,
    "start_time": "2024-09-25T14:29:12.771Z"
   },
   {
    "duration": 3,
    "start_time": "2024-09-25T14:29:12.841Z"
   },
   {
    "duration": 6,
    "start_time": "2024-09-25T14:29:12.846Z"
   },
   {
    "duration": 18,
    "start_time": "2024-09-25T14:29:12.854Z"
   },
   {
    "duration": 4,
    "start_time": "2024-09-25T14:29:12.874Z"
   },
   {
    "duration": 147,
    "start_time": "2024-09-25T14:29:12.879Z"
   },
   {
    "duration": 127,
    "start_time": "2024-09-25T14:29:13.028Z"
   },
   {
    "duration": 115,
    "start_time": "2024-09-25T14:29:13.157Z"
   },
   {
    "duration": 120,
    "start_time": "2024-09-25T14:29:13.274Z"
   },
   {
    "duration": 5,
    "start_time": "2024-09-25T14:29:13.396Z"
   },
   {
    "duration": 7,
    "start_time": "2024-09-25T14:29:13.403Z"
   },
   {
    "duration": 224,
    "start_time": "2024-09-25T14:29:13.411Z"
   },
   {
    "duration": 9,
    "start_time": "2024-09-25T14:29:13.637Z"
   },
   {
    "duration": 23,
    "start_time": "2024-09-25T14:29:13.647Z"
   },
   {
    "duration": 7,
    "start_time": "2024-09-25T14:29:13.671Z"
   },
   {
    "duration": 5,
    "start_time": "2024-09-25T14:29:13.680Z"
   },
   {
    "duration": 7,
    "start_time": "2024-09-25T14:29:13.687Z"
   },
   {
    "duration": 6,
    "start_time": "2024-09-25T14:29:13.695Z"
   },
   {
    "duration": 6,
    "start_time": "2024-09-25T14:29:13.703Z"
   },
   {
    "duration": 4,
    "start_time": "2024-09-25T14:29:13.711Z"
   },
   {
    "duration": 4,
    "start_time": "2024-09-25T14:29:13.716Z"
   },
   {
    "duration": 53,
    "start_time": "2024-09-25T14:29:13.722Z"
   },
   {
    "duration": 283,
    "start_time": "2024-09-25T14:29:13.776Z"
   },
   {
    "duration": 19,
    "start_time": "2024-09-25T14:29:14.061Z"
   },
   {
    "duration": 262,
    "start_time": "2024-09-25T14:29:14.082Z"
   },
   {
    "duration": 22,
    "start_time": "2024-09-25T14:29:14.347Z"
   },
   {
    "duration": 275,
    "start_time": "2024-09-25T14:29:14.371Z"
   },
   {
    "duration": 4,
    "start_time": "2024-09-25T14:29:14.648Z"
   },
   {
    "duration": 5,
    "start_time": "2024-09-25T14:29:14.670Z"
   },
   {
    "duration": 4,
    "start_time": "2024-09-25T14:29:14.677Z"
   },
   {
    "duration": 3,
    "start_time": "2024-09-25T14:29:14.683Z"
   },
   {
    "duration": 4,
    "start_time": "2024-09-25T14:29:14.689Z"
   },
   {
    "duration": 5,
    "start_time": "2024-09-25T14:29:14.694Z"
   },
   {
    "duration": 5,
    "start_time": "2024-09-25T14:29:14.700Z"
   },
   {
    "duration": 5,
    "start_time": "2024-09-25T14:29:14.707Z"
   }
  ],
  "kernelspec": {
   "display_name": "Python 3 (ipykernel)",
   "language": "python",
   "name": "python3"
  },
  "language_info": {
   "codemirror_mode": {
    "name": "ipython",
    "version": 3
   },
   "file_extension": ".py",
   "mimetype": "text/x-python",
   "name": "python",
   "nbconvert_exporter": "python",
   "pygments_lexer": "ipython3",
   "version": "3.11.9"
  },
  "toc": {
   "base_numbering": 1,
   "nav_menu": {},
   "number_sections": true,
   "sideBar": true,
   "skip_h1_title": true,
   "title_cell": "Table of Contents",
   "title_sidebar": "Contents",
   "toc_cell": false,
   "toc_position": {},
   "toc_section_display": true,
   "toc_window_display": false
  }
 },
 "nbformat": 4,
 "nbformat_minor": 5
}
